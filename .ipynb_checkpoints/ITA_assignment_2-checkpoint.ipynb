{
 "cells": [
  {
   "cell_type": "markdown",
   "metadata": {},
   "source": [
    "# Assignment 2: “Text Mining with Simpsons ”\n",
    "Due: Monday 2pm, December 14, 2020, via Moodle"
   ]
  },
  {
   "cell_type": "markdown",
   "metadata": {},
   "source": [
    "### Submission guidelines\n",
    "\n",
    "- Solutions need to be uploaded as a single Jupyter notebook. You will find many provided codes in the notebook, your task is to fill in the missing cells.\n",
    "- For the written solution use LaTeX in markdown inside the same notebook. Do *not* hand in a seperate file for it.\n",
    "- Download the .zip file containing the dataset but do *not* upload it with your solution.\n",
    "- It is sufficient if one person per group uploads the solution to Moodle, but make sure that the names of\n",
    "all team members are given on the PDF and in the source code."
   ]
  },
  {
   "cell_type": "markdown",
   "metadata": {},
   "source": [
    "--------"
   ]
  },
  {
   "cell_type": "markdown",
   "metadata": {},
   "source": [
    "The Simpson show is the world’s longest-running animated sitcom. The show revolves around the lives of the Simpson family, which consists of Homer, Marge, Bart, Lisa, and the little Maggi.\n",
    "For this notebook, you should download the dataset that contains the characters, locations, episode details, and script lines for approximately 600 Simpsons episodes, dating back to 1989.\n",
    "In the following exercises, we will explore the data and use visualizations to gain some insight into the show. The Zip file alongside this notebook should contain the following files:\n",
    "\n",
    "` simpsons_characters.csv, simpsons_locations.csv, simpsons_script_lines.csv, simpsons_episodes.csv`\n"
   ]
  },
  {
   "cell_type": "markdown",
   "metadata": {},
   "source": [
    "Take some time and familiarize yourself with the data. `simpsons_characters.csv` contains the character-names and their gender.\n",
    "`simpsons_locations.csv` contains information about locations in the shows,\n",
    "and `simpsons_episodes.csv` has information about each episode including their title, rating, and views.\n",
    "Finally, `simpsons_script_lines.csv` lists all the lines in the show, who said the line and where it was said. Be aware that this data set is not cleaned and, hence, includes faulty data as well as inconsistent data types."
   ]
  },
  {
   "cell_type": "markdown",
   "metadata": {},
   "source": [
    "Import the needed packages:"
   ]
  },
  {
   "cell_type": "code",
   "execution_count": 1,
   "metadata": {},
   "outputs": [],
   "source": [
    "import pandas as pd\n",
    "import numpy as np\n",
    "import matplotlib\n",
    "from matplotlib import pyplot as plt\n",
    "from os import path\n",
    "%matplotlib inline"
   ]
  },
  {
   "cell_type": "markdown",
   "metadata": {},
   "source": [
    "Let's read the data and get started!"
   ]
  },
  {
   "cell_type": "markdown",
   "metadata": {},
   "source": [
    "### Task 1:  Important Characters (3 + 2 + 2 + 4 = 11 point)\n",
    "### Sub-Task 1: \n",
    "Load the four datasets in the respective variables using pandas (pd),\n",
    "make sure to set the type of the `character_id` to integer and drop the line that has the non-numeric character ID `142024`."
   ]
  },
  {
   "cell_type": "code",
   "execution_count": 36,
   "metadata": {},
   "outputs": [
    {
     "name": "stdout",
     "output_type": "stream",
     "text": [
      "Empty DataFrame\n",
      "Columns: [id, name, normalized_name, gender]\n",
      "Index: []\n"
     ]
    },
    {
     "name": "stderr",
     "output_type": "stream",
     "text": [
      "C:\\ProgramData\\Anaconda3\\lib\\site-packages\\IPython\\core\\interactiveshell.py:3071: DtypeWarning: Columns (4,5,6) have mixed types.Specify dtype option on import or set low_memory=False.\n",
      "  has_raised = await self.run_ast_nodes(code_ast.body, cell_name,\n"
     ]
    }
   ],
   "source": [
    "df_characters = pd.read_csv(\"./data/simpsons_characters.csv\")\n",
    "# print(df_characters.query('id == 142024', engine='python'))\n",
    "df_characters = df_characters[df_characters['id'] != 142024]\n",
    "print(df_characters[df_characters['id'].isnull()])\n",
    "df_locations = pd.read_csv(\"./data/simpsons_locations.csv\")\n",
    "df_script = pd.read_csv(\"./data/simpsons_script_lines.csv\")  # dtype={\"timestamp_in_ms\":\"Int64\", \"speaking_line\":\"O\", \"character_id\":\"Int64\"}\n",
    "df_episodes = pd.read_csv(\"./data/simpsons_episodes.csv\")"
   ]
  },
  {
   "cell_type": "code",
   "execution_count": 43,
   "metadata": {},
   "outputs": [
    {
     "data": {
      "text/html": [
       "<div>\n",
       "<style scoped>\n",
       "    .dataframe tbody tr th:only-of-type {\n",
       "        vertical-align: middle;\n",
       "    }\n",
       "\n",
       "    .dataframe tbody tr th {\n",
       "        vertical-align: top;\n",
       "    }\n",
       "\n",
       "    .dataframe thead th {\n",
       "        text-align: right;\n",
       "    }\n",
       "</style>\n",
       "<table border=\"1\" class=\"dataframe\">\n",
       "  <thead>\n",
       "    <tr style=\"text-align: right;\">\n",
       "      <th></th>\n",
       "      <th>id</th>\n",
       "      <th>episode_id</th>\n",
       "      <th>number</th>\n",
       "      <th>raw_text</th>\n",
       "      <th>timestamp_in_ms</th>\n",
       "      <th>speaking_line</th>\n",
       "      <th>character_id</th>\n",
       "      <th>location_id</th>\n",
       "      <th>raw_character_text</th>\n",
       "      <th>raw_location_text</th>\n",
       "      <th>spoken_words</th>\n",
       "      <th>normalized_text</th>\n",
       "      <th>word_count</th>\n",
       "    </tr>\n",
       "  </thead>\n",
       "  <tbody>\n",
       "    <tr>\n",
       "      <th>8</th>\n",
       "      <td>9557</td>\n",
       "      <td>32</td>\n",
       "      <td>217</td>\n",
       "      <td>(Apartment Building: Ext. apartment building -...</td>\n",
       "      <td>889000</td>\n",
       "      <td>False</td>\n",
       "      <td>NaN</td>\n",
       "      <td>374.0</td>\n",
       "      <td>NaN</td>\n",
       "      <td>Apartment Building</td>\n",
       "      <td>NaN</td>\n",
       "      <td>NaN</td>\n",
       "      <td>NaN</td>\n",
       "    </tr>\n",
       "    <tr>\n",
       "      <th>16</th>\n",
       "      <td>9565</td>\n",
       "      <td>32</td>\n",
       "      <td>225</td>\n",
       "      <td>(Springfield Elementary School: EXT. ELEMENTAR...</td>\n",
       "      <td>918000</td>\n",
       "      <td>False</td>\n",
       "      <td>NaN</td>\n",
       "      <td>3.0</td>\n",
       "      <td>NaN</td>\n",
       "      <td>Springfield Elementary School</td>\n",
       "      <td>NaN</td>\n",
       "      <td>NaN</td>\n",
       "      <td>NaN</td>\n",
       "    </tr>\n",
       "    <tr>\n",
       "      <th>27</th>\n",
       "      <td>9576</td>\n",
       "      <td>32</td>\n",
       "      <td>236</td>\n",
       "      <td>Bart Simpson: (ANGUISHED SCREAM)</td>\n",
       "      <td>936000</td>\n",
       "      <td>False</td>\n",
       "      <td>8</td>\n",
       "      <td>3.0</td>\n",
       "      <td>Bart Simpson</td>\n",
       "      <td>Springfield Elementary School</td>\n",
       "      <td>NaN</td>\n",
       "      <td>NaN</td>\n",
       "      <td>NaN</td>\n",
       "    </tr>\n",
       "    <tr>\n",
       "      <th>29</th>\n",
       "      <td>75766</td>\n",
       "      <td>263</td>\n",
       "      <td>106</td>\n",
       "      <td>(Moe's Tavern: Int. Moe's - evening)</td>\n",
       "      <td>497000</td>\n",
       "      <td>False</td>\n",
       "      <td>NaN</td>\n",
       "      <td>15.0</td>\n",
       "      <td>NaN</td>\n",
       "      <td>Moe's Tavern</td>\n",
       "      <td>NaN</td>\n",
       "      <td>NaN</td>\n",
       "      <td>NaN</td>\n",
       "    </tr>\n",
       "    <tr>\n",
       "      <th>35</th>\n",
       "      <td>9583</td>\n",
       "      <td>32</td>\n",
       "      <td>243</td>\n",
       "      <td>(Train Station: int. train station - afternoon)</td>\n",
       "      <td>960000</td>\n",
       "      <td>False</td>\n",
       "      <td>NaN</td>\n",
       "      <td>375.0</td>\n",
       "      <td>NaN</td>\n",
       "      <td>Train Station</td>\n",
       "      <td>NaN</td>\n",
       "      <td>NaN</td>\n",
       "      <td>NaN</td>\n",
       "    </tr>\n",
       "    <tr>\n",
       "      <th>...</th>\n",
       "      <td>...</td>\n",
       "      <td>...</td>\n",
       "      <td>...</td>\n",
       "      <td>...</td>\n",
       "      <td>...</td>\n",
       "      <td>...</td>\n",
       "      <td>...</td>\n",
       "      <td>...</td>\n",
       "      <td>...</td>\n",
       "      <td>...</td>\n",
       "      <td>...</td>\n",
       "      <td>...</td>\n",
       "      <td>...</td>\n",
       "    </tr>\n",
       "    <tr>\n",
       "      <th>158194</th>\n",
       "      <td>9472</td>\n",
       "      <td>32</td>\n",
       "      <td>132</td>\n",
       "      <td>(Springfield Elementary School: INT. ELEMENTAR...</td>\n",
       "      <td>601000</td>\n",
       "      <td>false</td>\n",
       "      <td>NaN</td>\n",
       "      <td>3.0</td>\n",
       "      <td>NaN</td>\n",
       "      <td>Springfield Elementary School</td>\n",
       "      <td>NaN</td>\n",
       "      <td>NaN</td>\n",
       "      <td>NaN</td>\n",
       "    </tr>\n",
       "    <tr>\n",
       "      <th>158205</th>\n",
       "      <td>9483</td>\n",
       "      <td>32</td>\n",
       "      <td>143</td>\n",
       "      <td>(Simpson Home: INT. SIMPSON HOUSE - LIVINGING ...</td>\n",
       "      <td>646000</td>\n",
       "      <td>false</td>\n",
       "      <td>NaN</td>\n",
       "      <td>5.0</td>\n",
       "      <td>NaN</td>\n",
       "      <td>Simpson Home</td>\n",
       "      <td>NaN</td>\n",
       "      <td>NaN</td>\n",
       "      <td>NaN</td>\n",
       "    </tr>\n",
       "    <tr>\n",
       "      <th>158215</th>\n",
       "      <td>9493</td>\n",
       "      <td>32</td>\n",
       "      <td>153</td>\n",
       "      <td>(Museum: INT. MUSEUM - ADMISSION AREA - DAY)</td>\n",
       "      <td>686000</td>\n",
       "      <td>false</td>\n",
       "      <td>NaN</td>\n",
       "      <td>372.0</td>\n",
       "      <td>NaN</td>\n",
       "      <td>Museum</td>\n",
       "      <td>NaN</td>\n",
       "      <td>NaN</td>\n",
       "      <td>NaN</td>\n",
       "    </tr>\n",
       "    <tr>\n",
       "      <th>158243</th>\n",
       "      <td>9521</td>\n",
       "      <td>32</td>\n",
       "      <td>181</td>\n",
       "      <td>(SIMPSON HOUSE - BASEMENT STAIRCASE: INT. SIMP...</td>\n",
       "      <td>789000</td>\n",
       "      <td>false</td>\n",
       "      <td>NaN</td>\n",
       "      <td>373.0</td>\n",
       "      <td>NaN</td>\n",
       "      <td>SIMPSON HOUSE - BASEMENT STAIRCASE</td>\n",
       "      <td>NaN</td>\n",
       "      <td>NaN</td>\n",
       "      <td>NaN</td>\n",
       "    </tr>\n",
       "    <tr>\n",
       "      <th>158263</th>\n",
       "      <td>9541</td>\n",
       "      <td>32</td>\n",
       "      <td>201</td>\n",
       "      <td>(Springfield Elementary School: INT. ELEMENTAR...</td>\n",
       "      <td>814000</td>\n",
       "      <td>false</td>\n",
       "      <td>NaN</td>\n",
       "      <td>3.0</td>\n",
       "      <td>NaN</td>\n",
       "      <td>Springfield Elementary School</td>\n",
       "      <td>NaN</td>\n",
       "      <td>NaN</td>\n",
       "      <td>NaN</td>\n",
       "    </tr>\n",
       "  </tbody>\n",
       "</table>\n",
       "<p>26159 rows × 13 columns</p>\n",
       "</div>"
      ],
      "text/plain": [
       "           id  episode_id  number  \\\n",
       "8        9557          32     217   \n",
       "16       9565          32     225   \n",
       "27       9576          32     236   \n",
       "29      75766         263     106   \n",
       "35       9583          32     243   \n",
       "...       ...         ...     ...   \n",
       "158194   9472          32     132   \n",
       "158205   9483          32     143   \n",
       "158215   9493          32     153   \n",
       "158243   9521          32     181   \n",
       "158263   9541          32     201   \n",
       "\n",
       "                                                 raw_text timestamp_in_ms  \\\n",
       "8       (Apartment Building: Ext. apartment building -...          889000   \n",
       "16      (Springfield Elementary School: EXT. ELEMENTAR...          918000   \n",
       "27                       Bart Simpson: (ANGUISHED SCREAM)          936000   \n",
       "29                   (Moe's Tavern: Int. Moe's - evening)          497000   \n",
       "35        (Train Station: int. train station - afternoon)          960000   \n",
       "...                                                   ...             ...   \n",
       "158194  (Springfield Elementary School: INT. ELEMENTAR...          601000   \n",
       "158205  (Simpson Home: INT. SIMPSON HOUSE - LIVINGING ...          646000   \n",
       "158215       (Museum: INT. MUSEUM - ADMISSION AREA - DAY)          686000   \n",
       "158243  (SIMPSON HOUSE - BASEMENT STAIRCASE: INT. SIMP...          789000   \n",
       "158263  (Springfield Elementary School: INT. ELEMENTAR...          814000   \n",
       "\n",
       "       speaking_line character_id  location_id raw_character_text  \\\n",
       "8              False          NaN        374.0                NaN   \n",
       "16             False          NaN          3.0                NaN   \n",
       "27             False            8          3.0       Bart Simpson   \n",
       "29             False          NaN         15.0                NaN   \n",
       "35             False          NaN        375.0                NaN   \n",
       "...              ...          ...          ...                ...   \n",
       "158194         false          NaN          3.0                NaN   \n",
       "158205         false          NaN          5.0                NaN   \n",
       "158215         false          NaN        372.0                NaN   \n",
       "158243         false          NaN        373.0                NaN   \n",
       "158263         false          NaN          3.0                NaN   \n",
       "\n",
       "                         raw_location_text spoken_words normalized_text  \\\n",
       "8                       Apartment Building          NaN             NaN   \n",
       "16           Springfield Elementary School          NaN             NaN   \n",
       "27           Springfield Elementary School          NaN             NaN   \n",
       "29                            Moe's Tavern          NaN             NaN   \n",
       "35                           Train Station          NaN             NaN   \n",
       "...                                    ...          ...             ...   \n",
       "158194       Springfield Elementary School          NaN             NaN   \n",
       "158205                        Simpson Home          NaN             NaN   \n",
       "158215                              Museum          NaN             NaN   \n",
       "158243  SIMPSON HOUSE - BASEMENT STAIRCASE          NaN             NaN   \n",
       "158263       Springfield Elementary School          NaN             NaN   \n",
       "\n",
       "       word_count  \n",
       "8             NaN  \n",
       "16            NaN  \n",
       "27            NaN  \n",
       "29            NaN  \n",
       "35            NaN  \n",
       "...           ...  \n",
       "158194        NaN  \n",
       "158205        NaN  \n",
       "158215        NaN  \n",
       "158243        NaN  \n",
       "158263        NaN  \n",
       "\n",
       "[26159 rows x 13 columns]"
      ]
     },
     "execution_count": 43,
     "metadata": {},
     "output_type": "execute_result"
    }
   ],
   "source": [
    "# test\n",
    "df_script[df_script.spoken_words.isnull()]"
   ]
  },
  {
   "cell_type": "markdown",
   "metadata": {},
   "source": [
    "Using panda's `.head()` function look at the top rows of each dataset."
   ]
  },
  {
   "cell_type": "code",
   "execution_count": 11,
   "metadata": {},
   "outputs": [
    {
     "name": "stdout",
     "output_type": "stream",
     "text": [
      "object\n",
      "object\n"
     ]
    }
   ],
   "source": [
    "####Your Code####\n",
    "# df_characters.head()\n",
    "# df_locations.head()\n",
    "# df_script.head()\n",
    "# df_episodes.head()\n",
    "# print(df_script[df_script[\"word_count\"] == \"true\"].loc[:, [\"id\", \"word_count\"]])\n",
    "print(df_script.timestamp_in_ms.dtype)\n",
    "print(df_script.character_id.dtype)\n",
    "\n"
   ]
  },
  {
   "cell_type": "markdown",
   "metadata": {},
   "source": [
    "Let's take a look at the important characters of the show. To start we detect the main characters by the number of spoken words/lines throughout the show. \n",
    "Extract top 10 characters based on the number of spoken words (word count) as well as the 10 most prominent characters regarding the number of lines they head during the show.\n",
    "Compare both results by drawing two bar plots: For the first plot, the x-axis should show the name of the top 10 characters with regard to the word count and the y-axis should display the number of spoken words.\n",
    "In the second plot, you should do the same but this time considering the number of lines for each character (,i.e., the characters displayed on the x-axis can be different for the first and second bar plot). You might notice that there is a column with `word_count` in the `scripts` data frame, but cleaning it up might be tricky. To find the sum of all values, first remove the `nan` and any other string characters in that colum, you can use the `conv` function provided."
   ]
  },
  {
   "cell_type": "code",
   "execution_count": 3,
   "metadata": {
    "scrolled": true
   },
   "outputs": [
    {
     "name": "stdout",
     "output_type": "stream",
     "text": [
      "raw_character_text\n",
      "Marge Simpson          1269710.0\n",
      "Entire Town            1154000.0\n",
      "Homer Simpson           680208.0\n",
      "Robert Pinsky           672126.0\n",
      "ABBA                    571000.0\n",
      "Lisa Simpson            363224.0\n",
      "Bart Simpson            217113.0\n",
      "C. Montgomery Burns      36212.0\n",
      "Moe Szyslak              32855.0\n",
      "Seymour Skinner          28138.0\n",
      "Name: word_count, dtype: float64\n",
      "<class 'pandas.core.series.Series'>\n"
     ]
    }
   ],
   "source": [
    "def conv(row):\n",
    "    try:\n",
    "        return int(row)\n",
    "    except:\n",
    "        return np.nan\n",
    "\n",
    "df_script[\"word_count\"] = df_script[\"word_count\"].apply(conv)\n",
    "df_script[\"word_count\"].dropna(inplace=True)\n",
    "top_characters_words = df_script.groupby(['raw_character_text'])['word_count'].sum().nlargest(10)\n",
    "print(top_characters_words)\n",
    "print(type(top_characters_words))\n",
    "# todo\n",
    "# merge_data_words_sub = ### merge to get the names ###\n",
    "# merge_data_words_sub.head(5)"
   ]
  },
  {
   "cell_type": "code",
   "execution_count": 4,
   "metadata": {},
   "outputs": [
    {
     "name": "stdout",
     "output_type": "stream",
     "text": [
      "['Marge Simpson', 'Entire Town', 'Homer Simpson', 'Robert Pinsky', 'ABBA', 'Lisa Simpson', 'Bart Simpson', 'C. Montgomery Burns', 'Moe Szyslak', 'Seymour Skinner']\n",
      "<class 'list'>\n"
     ]
    }
   ],
   "source": [
    "tmp = top_characters_words.index.tolist()\n",
    "print(tmp)\n",
    "print(type(tmp))"
   ]
  },
  {
   "cell_type": "code",
   "execution_count": 19,
   "metadata": {},
   "outputs": [
    {
     "name": "stdout",
     "output_type": "stream",
     "text": [
      "1\n",
      "1\n",
      "2\n",
      "1\n",
      "   a    b  c\n",
      "0  1  2.0  3\n",
      "1  1  NaN  4\n",
      "2  2  1.0  3\n",
      "3  1  2.0  2\n"
     ]
    }
   ],
   "source": [
    "# test\n",
    "l = [[1, 2, 3], [1, None, 4], [2, 1, 3], [1, 2, 2]]\n",
    "df = pd.DataFrame(l, columns=[\"a\", \"b\", \"c\"])\n",
    "for v in df.a:\n",
    "    print(v)\n",
    "print(df)"
   ]
  },
  {
   "cell_type": "code",
   "execution_count": 19,
   "metadata": {},
   "outputs": [
    {
     "name": "stdout",
     "output_type": "stream",
     "text": [
      "<class 'pandas.core.series.Series'>\n"
     ]
    }
   ],
   "source": [
    "top_characters_sentences = df_script[\"raw_character_text\"].value_counts().nlargest(10)\n",
    "top_characters_sentences\n",
    "print(type(top_characters_sentences))\n",
    "# merge_data_sentences_sub = ### Your code ###\n",
    "# merge_data_sentences_sub.head(10)"
   ]
  },
  {
   "cell_type": "code",
   "execution_count": 21,
   "metadata": {},
   "outputs": [
    {
     "data": {
      "text/plain": [
       "<matplotlib.axes._subplots.AxesSubplot at 0x7f9ae4ea66d0>"
      ]
     },
     "execution_count": 21,
     "metadata": {},
     "output_type": "execute_result"
    },
    {
     "data": {
      "image/png": "[encoded data removed]",
      "text/plain": [
       "<Figure size 432x288 with 1 Axes>"
      ]
     },
     "metadata": {
      "needs_background": "light"
     },
     "output_type": "display_data"
    }
   ],
   "source": [
    "#### Draw the word count plot ####\n",
    "#### Hint: look at the plot function from dataframe #### \n",
    "top_characters_words.plot(kind='bar')"
   ]
  },
  {
   "cell_type": "code",
   "execution_count": 20,
   "metadata": {},
   "outputs": [
    {
     "data": {
      "text/plain": [
       "<matplotlib.axes._subplots.AxesSubplot at 0x7f9ae54fb550>"
      ]
     },
     "execution_count": 20,
     "metadata": {},
     "output_type": "execute_result"
    },
    {
     "data": {
      "image/png": "[encoded data removed]",
      "text/plain": [
       "<Figure size 432x288 with 1 Axes>"
      ]
     },
     "metadata": {
      "needs_background": "light"
     },
     "output_type": "display_data"
    }
   ],
   "source": [
    "#### Draw the sentence count plot ####\n",
    "#### Hint: look at the plot function from dataframe #### \n",
    "top_characters_sentences.plot(kind='bar')"
   ]
  },
  {
   "cell_type": "markdown",
   "metadata": {},
   "source": [
    "If you have done the exercise correctly you should see that the top-4 characters of the show (Homer, Marge, Bart, and Lisa Simpson) have the most dialogs (lines) in the show but their distribution differs when we look at the word count.\n",
    "Seems like some characters speak in long sentences."
   ]
  },
  {
   "cell_type": "markdown",
   "metadata": {},
   "source": [
    "### Sub-Task 2: Common Words and Word Cloud \n",
    "Let's examine the dialogues and look at the top 20 common words, draw a bar plot in the same way as above to show the frequencies.\n",
    "To generate a meaningful output use the preprocessing pipelines explained in the lecture: \n",
    "- use regex to remove non-alphabetic characters and also remove `'` since the tokenizer will treat it as a new token (anything that is not a number or alphabet including punctuations)\n",
    "- lowercase all words\n",
    "- remove stopwords based on spaCy's stopword list\n",
    "- tokenize the `spoken_words` (remove single characters produced by the tokenizer)\n",
    "- perform stemming \n",
    " \n",
    "In this exercise, we require you to use SpaCy for all language processing steps except for stemming.\n",
    "This is due to the lack of a stemmer in SpaCy's library that only provides a tool for lemmatization.\n",
    "Hence, for Stemming we are going to use one of the stemmers provided by NLTK.\n"
   ]
  },
  {
   "cell_type": "code",
   "execution_count": 3,
   "metadata": {},
   "outputs": [],
   "source": [
    "import spacy \n",
    "import re \n",
    "from collections import Counter\n",
    "from matplotlib import pyplot as plt\n",
    "from nltk.stem import PorterStemmer"
   ]
  },
  {
   "cell_type": "code",
   "execution_count": 8,
   "metadata": {},
   "outputs": [
    {
     "name": "stdout",
     "output_type": "stream",
     "text": [
      "donald trump isnt the president any alonger in \n",
      "Donald trump isn't the president any alonger in 2020\n"
     ]
    }
   ],
   "source": [
    "# test\n",
    "test_sentence = \"Donald trump isn't the president any alonger in 2020\"\n",
    "print(re.sub(\"[^a-zA-Z ]\", \"\", test_sentence).lower())\n",
    "print(test_sentence)\n"
   ]
  },
  {
   "cell_type": "markdown",
   "metadata": {},
   "source": [
    "`python3 -m spacy download en_core_web_sm`"
   ]
  },
  {
   "cell_type": "code",
   "execution_count": 37,
   "metadata": {},
   "outputs": [],
   "source": [
    "nlp = spacy.load(\"en_core_web_sm\", diable=['tagger', 'parser', 'ner'])  ### load en_core_web_sm and disable the tagger, parser and ner.\n",
    "stopwords = spacy.lang.en.stop_words.STOP_WORDS  ### load the list of stopwords from spacy for the English language\n",
    "stemmer = PorterStemmer()  ### initialize the stemmer from NLTK\n",
    "\n",
    "df_script[\"spoken_words\"].dropna(inplace=True)\n",
    "df_script[\"spoken_words\"] = df_script[\"spoken_words\"].apply(lambda row: re.sub(\"[^a-zA-Z ]\", \"\", str(row)).lower())  ### Your code to lower case and remove non-alphabetic characters\n"
   ]
  },
  {
   "cell_type": "code",
   "execution_count": 39,
   "metadata": {},
   "outputs": [],
   "source": [
    "counter = Counter()\n",
    "for content in df_script[\"spoken_words\"]:\n",
    "    for token in nlp(str(content)):\n",
    "        if token.text not in stopwords:\n",
    "            counter[stemmer.stem(token.text)] += 1\n",
    "#### Count the words in the scripts and print out the most common 20, remove any single character tokens and stem"
   ]
  },
  {
   "cell_type": "code",
   "execution_count": 41,
   "metadata": {},
   "outputs": [
    {
     "name": "stdout",
     "output_type": "stream",
     "text": [
      "[('nan', 26159), ('nt', 15983), ('s', 11582), ('m', 9491), (' ', 8493), ('oh', 8173), ('like', 6272), ('know', 4970), ('ve', 4676), ('got', 4635), ('hey', 4290), ('homer', 4274), ('right', 4109), ('look', 3708), ('bart', 3580), ('want', 3571), ('let', 3284), ('think', 3265), ('come', 3192), ('ill', 3188)]\n"
     ]
    }
   ],
   "source": [
    "print(counter.most_common(20))"
   ]
  },
  {
   "cell_type": "code",
   "execution_count": null,
   "metadata": {},
   "outputs": [],
   "source": [
    "#### draw a bar plot with the x axis as the words and the y axis as the frequencys"
   ]
  },
  {
   "cell_type": "markdown",
   "metadata": {},
   "source": [
    "Generate a word cloud to visualize the frequencies:\n",
    "A word cloud is a graphical representation of frequently used words in the normalized text.\n",
    "The height of each word in this picture is an indication of the frequency of occurrence of the word in the entire text.\n",
    "You will need to install the package `wordcloud`.\n",
    "To achieve a homogeneous output, set the `max_words` to 100 and `max_font_size` to 60.\n",
    "Make sure the same word does not appear more than once."
   ]
  },
  {
   "cell_type": "code",
   "execution_count": null,
   "metadata": {},
   "outputs": [],
   "source": [
    "from wordcloud import WordCloud"
   ]
  },
  {
   "cell_type": "code",
   "execution_count": null,
   "metadata": {},
   "outputs": [],
   "source": [
    "wordcloud = WordCloud( \n",
    "    #### your code ####\n",
    ")\n",
    "    \n",
    "fig = plt.figure(1, figsize=(12, 12))\n",
    "plt.axes(\"off\")\n",
    "plt.imshow(wordcloud, interpolation=\"bilinear\")"
   ]
  },
  {
   "cell_type": "markdown",
   "metadata": {},
   "source": [
    "### Sub-Task 3: Common Named Entities \n",
    "Apply named entity recognition using SpaCy and generate a word cloud of the top 50\n",
    "named entities that have the type `PERSON`, using the same approach\n",
    "for visualization as above. Take into account that you cannot simply use the\n",
    "output of the previous step and need to undo the stemming. Since the named entity\n",
    "recognition takes quite some time, use only the first `10000` scripts."
   ]
  },
  {
   "cell_type": "code",
   "execution_count": null,
   "metadata": {},
   "outputs": [],
   "source": [
    "nlp = # Load the small English spacy model again, this time with all components enabled\n",
    "\n",
    "for script in df_script.spoken_words.tolist()[:10000]:\n",
    "    ###Your code ##### \n",
    "    \n",
    "fig = plt.figure(1, figsize=(12, 12))\n",
    "plt.axis(\"off\")\n",
    "plt.imshow(wordcloud, interpolation=\"bilinear\")"
   ]
  },
  {
   "cell_type": "markdown",
   "metadata": {},
   "source": [
    "How well does the named entity recognition work? Do you notice some strange \"people\" in there?"
   ]
  },
  {
   "cell_type": "markdown",
   "metadata": {},
   "source": [
    "### Sub Task 4 : Sophistication of Speech\n",
    " "
   ]
  },
  {
   "cell_type": "markdown",
   "metadata": {},
   "source": [
    "Take into account the top 10 characters from the first subtask (based on line count), it is interesting to see whether there are big differences in the sophistication of speech or vocabulary size between the characters.\n",
    "To measure this, we turn to the Flesch Reading Ease. Although designed for written text we use it here on spoken words.\n",
    "This measures indicates how difficult a passage in English is to understand and is based on a ranking scale of 0-100, where higher scores indicate material that is easier to read; lower numbers mark passages that are more difficult to read.\n",
    "For more information look at the [wiki page](https://en.wikipedia.org/wiki/Flesch%E2%80%93Kincaid_readability_tests).\n",
    "\n",
    "$206.835 - 1.015 \\times \\frac{total words}{total sentences} - 84.6 \\times \\frac{total syllables}{total words}$\n",
    "\n",
    "For syllable counts, download `cmudict` from the NLTK library and count the vowel sounds from the Carnegie Mellon Pronouncing Dictionary (cmudict).\n",
    "Then count vowel sounds in each word, if a word is not in the dictionary do not count it in.\n",
    "CMUdict marks each vowel with a stress tag, 0 (unstressed), 1 (stressed), or 2 (secondary stress)."
   ]
  },
  {
   "cell_type": "code",
   "execution_count": null,
   "metadata": {},
   "outputs": [],
   "source": [
    "import nltk\n",
    "#nltk.download('cmudict')\n",
    "from nltk.corpus import cmudict\n",
    "phoneme_dict = dict(cmudict.entries())\n",
    "nlp = # load the same spacy model again, with tagger, parser and ner disabled.\n",
    "nlp.add_pipe(nlp.create_pipe('sentencizer'))\n",
    "\n",
    "def syllable_counter(word):\n",
    "    ### functionn that counts a syllable in a word \n",
    "\n",
    "def total_sylls(x): \n",
    "    ### function to use with apply method, to count the total number of syllable in line of a script \n",
    "    \n",
    "def sentence_count(x):\n",
    "    ### function to use with apply method, to count the total number of sentences in line of a script \n",
    "\n",
    "df_script['syllable_count'] =\n",
    "df_script['sentence_count'] = \n",
    "top_characters_counts = ## use aggragations to find the word_count, syllable_count and sentence_count per person \n",
    "top_characters_counts['Flesch_readability'] =\n",
    "merge_data_words_sub = ### merge with df_characters to find the character nanmes \n",
    "### draw plot "
   ]
  },
  {
   "cell_type": "markdown",
   "metadata": {},
   "source": [
    "## Task 2: TF-IDF ( 3 + 4 = 7 points)\n"
   ]
  },
  {
   "cell_type": "markdown",
   "metadata": {},
   "source": [
    "## Sub Task 1: \n",
    "Despite all the preprocessing, so far the top words we looked at are not so informative.\n",
    "We wish to find out the important words that are spoken by the top characters.\n",
    "For example, the youngest of the family should have \"mom\" as an important word.\n",
    "We looked at the Term Frequency - Inverse Document Frequency (TF-IDF) weighting in the lecture, so let's use that here to detect the most important words per character.\n",
    "In this case, each script line is a document for a certain character who spoke the words.\n",
    "Use `CountVectorizer` and `TfidfTransformers` from scikit-learn, and use the scikit-learn stop word list to remove stop words and remove the words with a frequency less than 5 from the analysis.\n",
    "Then plot the TF-IDF values for the top 10 words for Homer, Marge, Bart, and Lisa Simpson as a bar plot."
   ]
  },
  {
   "cell_type": "code",
   "execution_count": null,
   "metadata": {},
   "outputs": [],
   "source": [
    "from sklearn.feature_extraction.text import CountVectorizer\n",
    "from sklearn.feature_extraction.text import TfidfTransformer\n",
    "del df_script['id']\n",
    "df_script = df_script.rename(columns = {'character_id':'id'})  # to merge easily"
   ]
  },
  {
   "cell_type": "code",
   "execution_count": null,
   "metadata": {},
   "outputs": [],
   "source": [
    "merged_data = #merge the dataframes to the characters to get the names and drop nan values\n",
    "\n",
    "for name in ['Homer Simpson', 'Marge Simpson', 'Bart Simpson', 'Lisa Simpson']:\n",
    "    ##### Your code ######\n",
    "    count_vectorized =\n",
    "    transformer = \n",
    "    ### Don't forget that you need the tfidf values for a single word averaged across documents ####"
   ]
  },
  {
   "cell_type": "markdown",
   "metadata": {},
   "source": [
    "If you did the exercise correctly, \"mom\" and \"dad\" should be among the top words for the childern and \"homer\" should be the top word for Marge, since this is what she calls her husband."
   ]
  },
  {
   "cell_type": "markdown",
   "metadata": {},
   "source": [
    "## Sub Task 2: \n",
    "If we consider the spoken words from each character a document of its own, we can generate 4 documents (by concatenation of all dialogs) for Homer, Marge, Bart, and Lisa Simpson, and create document vectors from those.\n",
    "Let's take a look at how the values in these vectors are distributed. Use  `sns.heatmap` from the seaborn package to show the vectors of the 4 documents for the top-20 words (set the `max_features` parameter of the `CountVectorizer` to 20).\n",
    "Compare it with the heatmap of only term frequencies of the documents. Use `fmt='g'` to print out the correct format."
   ]
  },
  {
   "cell_type": "code",
   "execution_count": null,
   "metadata": {},
   "outputs": [],
   "source": [
    "import seaborn as sns"
   ]
  },
  {
   "cell_type": "code",
   "execution_count": null,
   "metadata": {},
   "outputs": [],
   "source": [
    "fig, ax = plt.subplots(figsize=(17,6))         \n",
    "sns.heatmap(### Your tfidf weights ###\n",
    "    , annot=True, cbar=False, ax=ax, xticklabels=# top 20 words\n",
    ")"
   ]
  },
  {
   "cell_type": "code",
   "execution_count": null,
   "metadata": {},
   "outputs": [],
   "source": [
    "fig, ax = plt.subplots(figsize=(17,6))         \n",
    "sns.heatmap(### Your count vectorizer weights ###\n",
    "    , annot=True, cbar=False, ax=ax, xticklabels=#top 20 words\n",
    ")"
   ]
  },
  {
   "cell_type": "markdown",
   "metadata": {},
   "source": [
    "Based on the TF_IDF vectors of the top-20 words, which characters are similar?"
   ]
  },
  {
   "cell_type": "code",
   "execution_count": null,
   "metadata": {},
   "outputs": [],
   "source": [
    "from sklearn.metrics import pairwise\n",
    "names = ['Homer Simpson', 'Marge Simpson', 'Bart Simpson', 'Lisa Simpson']\n",
    "cosine= ### Your code ### \n",
    "for i,name in zip(range(4),names):\n",
    "    for j,name2 in zip(range(i+1,4),names[i+1:]):\n",
    "        print('{} to {}: {}'.format(name, name2, ### Your code to compute cosine similarity ###))\n"
   ]
  },
  {
   "cell_type": "markdown",
   "metadata": {},
   "source": [
    "# Task 3: Topics ( 4 + 3 = 7 points)"
   ]
  },
  {
   "cell_type": "markdown",
   "metadata": {},
   "source": [
    "It is interesting to inspect the topics often discussed in the show. We look at SVD (LSA) and NMF for topic detection."
   ]
  },
  {
   "cell_type": "markdown",
   "metadata": {},
   "source": [
    "## Sub Task1:\n",
    "Use `NMF` from scikit-learn to detect the topics in the scripts, and use the text cleaning steps from the first task:\n",
    "- use regex to remove non-alphabetic characters and also remove `'` since the tokenizer will treat it as a new token (anything that is not a number or alphabet including punctuations)\n",
    "- lowercase all words\n",
    "- remove stopwords based on spaCy's stopword list for English\n",
    "- tokenize the spoken_words (remove single characters produced by the tokenizer) \n",
    "- perform stemming \n",
    "\n",
    "set the `max_features` of  `CountVectorizer` to 10,000 and `random_state` of the `NMF` to 42, `n_components=10`."
   ]
  },
  {
   "cell_type": "code",
   "execution_count": null,
   "metadata": {},
   "outputs": [],
   "source": [
    "from sklearn.decomposition import NMF \n",
    "stopwords = # load spacy's stop word list"
   ]
  },
  {
   "cell_type": "code",
   "execution_count": null,
   "metadata": {},
   "outputs": [],
   "source": [
    "def show_topics(components, num_top_words, vocab):\n",
    "    #for each component or topic sorts the row values from large to small and returns the top words and the representation of the topic.\n",
    "    top_words = lambda t: [vocab[i] for i in np.argsort(t)[:-num_top_words-1:-1]]\n",
    "    topic_words = ([top_words(t) for t in components])\n",
    "    return [' '.join(t) for t in topic_words]"
   ]
  },
  {
   "cell_type": "code",
   "execution_count": null,
   "metadata": {},
   "outputs": [],
   "source": [
    "nlp = spacy.load(#### Your Code ####\n",
    "porter = #### initlize the stemmer ####\n",
    "df_script.dropna(inplace=True)\n",
    "df_script.spoken_words =#### Your Code ####"
   ]
  },
  {
   "cell_type": "code",
   "execution_count": null,
   "metadata": {},
   "outputs": [],
   "source": [
    "nmf = NMF(#### Your Code #### )"
   ]
  },
  {
   "cell_type": "markdown",
   "metadata": {},
   "source": [
    "Use the `show_topics()` method to show the top-20 words for the top 2 topics."
   ]
  },
  {
   "cell_type": "code",
   "execution_count": null,
   "metadata": {},
   "outputs": [],
   "source": [
    "#### Your Code ####"
   ]
  },
  {
   "cell_type": "markdown",
   "metadata": {},
   "source": [
    "## Sub Task 2:\n",
    "The SVD algorithm factorizes a matrix into one matrix with orthogonal columns and one with orthogonal rows (along with a diagonal matrix, which contains the relative importance of each factor).\n",
    "Latent Semantic Analysis (LSA) uses SVD. Here we use the 'TruncatedSVD' method from 'sklearn' to look at the topics.\n",
    "This is faster than SVD since we focus only on the largest singluar values.\n",
    "Use the cleaned documents form the substask before. Where `random_state=42`, `n_components=10`, and `n_iter=7`."
   ]
  },
  {
   "cell_type": "code",
   "execution_count": null,
   "metadata": {},
   "outputs": [],
   "source": [
    "from sklearn.decomposition import TruncatedSVD"
   ]
  },
  {
   "cell_type": "code",
   "execution_count": null,
   "metadata": {},
   "outputs": [],
   "source": [
    "svd = TruncatedSVD(#### Your Code ####)"
   ]
  },
  {
   "cell_type": "markdown",
   "metadata": {},
   "source": [
    "Use the `show_topics` method to show the top-20 words for the top-2 topics. "
   ]
  },
  {
   "cell_type": "code",
   "execution_count": null,
   "metadata": {},
   "outputs": [],
   "source": [
    "show_topics(#### Your Code ####)"
   ]
  },
  {
   "cell_type": "markdown",
   "metadata": {},
   "source": [
    "As you can see there is not much to make out of these topics. But topic models also give us document representations, so let's compare Homer, Marge, Bart, and Lisa Simpson based on their SVD vectors.\n",
    "Use the same approach as the TF_IDF Task, but apply the pre-processing steps mentioned in the previous subtask.\n",
    "Notice that if you use the default parameters for the SVD you might encounter a strange shape in the transformed data.\n",
    "This happens because the underlying algorithm is set to 'randomized_svd'.\n",
    "Investigate how to solve this problem and run the algorithm with `n_components=2, n_iter=7, random_state=40`.\n",
    "Hint: You need one extra parameter to overcome this problem.\n",
    "Transform the TF_IDF vectors for the 4 subsets to the SVD and compute the cosine similarity."
   ]
  },
  {
   "cell_type": "code",
   "execution_count": null,
   "metadata": {},
   "outputs": [],
   "source": [
    "subsets = {}\n",
    "for name in ['Homer Simpson', 'Marge Simpson', 'Bart Simpson', 'Lisa Simpson']:\n",
    "    subsets[name] = merged_data[merged_data['name']==name]['normalized_text'].### Your code ###"
   ]
  },
  {
   "cell_type": "code",
   "execution_count": null,
   "metadata": {},
   "outputs": [],
   "source": [
    "count_vectorized = CountVectorizer(analyzer='word', max_features=10000)\n",
    "### Your Code ### \n",
    "svd = ### Your Code ###\n",
    "svd.fit(### Your Code ### \n",
    "new_weights = ### Your Code ###"
   ]
  },
  {
   "cell_type": "code",
   "execution_count": null,
   "metadata": {},
   "outputs": [],
   "source": [
    "names = ['Homer Simpson', 'Marge Simpson', 'Bart Simpson', 'Lisa Simpson']\n",
    "cosine = ###Compute the cosine similirity###\n",
    "for i, name in zip(range(4),names):\n",
    "    for j, name2 in zip(range(i+1,4),names[i+1:]):\n",
    "        print('{} to {}: {}'.\n",
    "                  format(name,name2,###Cosine Similiarity### ))"
   ]
  },
  {
   "cell_type": "markdown",
   "metadata": {},
   "source": [
    "## Task 4: Mathematical Concepts ( 1 + 2 + 2 = 5 points)\n",
    "Answer the following questions in the notebook, use markdown or latex to fill in the cells for the answers:"
   ]
  },
  {
   "cell_type": "markdown",
   "metadata": {},
   "source": [
    "## Sub Task 1: \n",
    "What is the relationship between PCA and SVD? "
   ]
  },
  {
   "cell_type": "code",
   "execution_count": null,
   "metadata": {},
   "outputs": [],
   "source": []
  },
  {
   "cell_type": "markdown",
   "metadata": {},
   "source": [
    "## Sub Task 2: "
   ]
  },
  {
   "cell_type": "markdown",
   "metadata": {},
   "source": [
    "Find the Singular value decomposition of  $A = \\left[ \\begin{matrix}1&-1\\\\ -2&2\\\\ 2&-2\\end{matrix} \\right]$.\n"
   ]
  },
  {
   "cell_type": "markdown",
   "metadata": {},
   "source": []
  },
  {
   "cell_type": "markdown",
   "metadata": {},
   "source": [
    "## Sub Task 3:\n",
    "\n",
    "Consider the term-document matrix \n",
    "\n",
    "|        | d1 | d2 | d3 | d4 | d5 | d6 |\n",
    "|--------|----|----|----|----|----|----|\n",
    "| bank   | 1  | 2  | 1  | 2  | 1  | 1  |\n",
    "| money  | 0  | 0  | 0  | 2  | 1  | 2  |\n",
    "| river  | 2  | 0  | 2  | 0  | 0  | 0  |\n",
    "| ship   | 2  | 1  | 1  | 0  | 0  | 0  |\n",
    "| water  | 1  | 2  | 2  | 0  | 0  | 0  |\n",
    "| invest | 0  | 0  | 0  | 1  | 2  | 0  |\n",
    "| loan   | 0  | 0  | 0  | 1  | 1  | 1  |\n",
    "\n",
    "Use NumPy to compute the SVD for the matrix and write down the term matrix (U) and document matrix ($V^T$) and the singular values ($\\Sigma$). Compute the following: \n",
    "\n",
    "- zero out everything but the 2 largest singular values of $\\Sigma$ and compute the new term-document matrix.\n",
    "- detect the two topics given the new $\\Sigma$ and show the top-3 words for each. What are these topics? \n",
    "- what is the most similar document to each document, using the cosine similarity and reduced representation? \n",
    "\n"
   ]
  },
  {
   "cell_type": "code",
   "execution_count": null,
   "metadata": {},
   "outputs": [],
   "source": [
    "import numpy as np \n",
    "A = np.array(### Your Code ####"
   ]
  },
  {
   "cell_type": "code",
   "execution_count": null,
   "metadata": {},
   "outputs": [],
   "source": [
    "u, s, vh = np.linalg.### Your Code ####\n"
   ]
  },
  {
   "cell_type": "code",
   "execution_count": null,
   "metadata": {},
   "outputs": [],
   "source": []
  },
  {
   "cell_type": "code",
   "execution_count": null,
   "metadata": {},
   "outputs": [],
   "source": [
    "new_reconstruction= ### Your Code ####\n",
    "print(new_reconstruction.round(1))"
   ]
  },
  {
   "cell_type": "code",
   "execution_count": null,
   "metadata": {},
   "outputs": [],
   "source": [
    "vocab=['bank', 'money', 'river', 'ship', 'water', 'invest', 'loan']\n",
    "top_words = ### Your Code ###"
   ]
  },
  {
   "cell_type": "code",
   "execution_count": null,
   "metadata": {},
   "outputs": [],
   "source": [
    "from sklearn.metrics import pairwise\n",
    "cosine = ### Your Code ###"
   ]
  }
 ],
 "metadata": {
  "kernelspec": {
   "display_name": "Python 3",
   "language": "python",
   "name": "python3"
  },
  "language_info": {
   "codemirror_mode": {
    "name": "ipython",
    "version": 3
   },
   "file_extension": ".py",
   "mimetype": "text/x-python",
   "name": "python",
   "nbconvert_exporter": "python",
   "pygments_lexer": "ipython3",
   "version": "3.8.3"
  }
 },
 "nbformat": 4,
 "nbformat_minor": 2
}
