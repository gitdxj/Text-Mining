{
 "cells": [
  {
   "cell_type": "markdown",
   "metadata": {},
   "source": [
    "# Assignment 2: “Text Mining with Simpsons ”\n",
    "Due: Monday 2pm, December 14, 2020, via Moodle"
   ]
  },
  {
   "cell_type": "markdown",
   "metadata": {},
   "source": [
    "### Submission guidelines\n",
    "\n",
    "- Solutions need to be uploaded as a single Jupyter notebook. You will find many provided codes in the notebook, your task is to fill in the missing cells.\n",
    "- For the written solution use LaTeX in markdown inside the same notebook. Do *not* hand in a seperate file for it.\n",
    "- Download the .zip file containing the dataset but do *not* upload it with your solution.\n",
    "- It is sufficient if one person per group uploads the solution to Moodle, but make sure that the names of\n",
    "all team members are given on the PDF and in the source code."
   ]
  },
  {
   "cell_type": "markdown",
   "metadata": {},
   "source": [
    "--------"
   ]
  },
  {
   "cell_type": "markdown",
   "metadata": {},
   "source": [
    "The Simpson show is the world’s longest-running animated sitcom. The show revolves around the lives of the Simpson family, which consists of Homer, Marge, Bart, Lisa, and the little Maggi.\n",
    "For this notebook, you should download the dataset that contains the characters, locations, episode details, and script lines for approximately 600 Simpsons episodes, dating back to 1989.\n",
    "In the following exercises, we will explore the data and use visualizations to gain some insight into the show. The Zip file alongside this notebook should contain the following files:\n",
    "\n",
    "` simpsons_characters.csv, simpsons_locations.csv, simpsons_script_lines.csv, simpsons_episodes.csv`\n"
   ]
  },
  {
   "cell_type": "markdown",
   "metadata": {},
   "source": [
    "Take some time and familiarize yourself with the data. `simpsons_characters.csv` contains the character-names and their gender.\n",
    "`simpsons_locations.csv` contains information about locations in the shows,\n",
    "and `simpsons_episodes.csv` has information about each episode including their title, rating, and views.\n",
    "Finally, `simpsons_script_lines.csv` lists all the lines in the show, who said the line and where it was said. Be aware that this data set is not cleaned and, hence, includes faulty data as well as inconsistent data types."
   ]
  },
  {
   "cell_type": "markdown",
   "metadata": {},
   "source": [
    "Import the needed packages:"
   ]
  },
  {
   "cell_type": "code",
   "execution_count": 2,
   "metadata": {},
   "outputs": [],
   "source": [
    "import pandas as pd\n",
    "import numpy as np\n",
    "import matplotlib\n",
    "from matplotlib import pyplot as plt\n",
    "from os import path\n",
    "%matplotlib inline"
   ]
  },
  {
   "cell_type": "markdown",
   "metadata": {},
   "source": [
    "Let's read the data and get started!"
   ]
  },
  {
   "cell_type": "markdown",
   "metadata": {},
   "source": [
    "### Task 1:  Important Characters (3 + 2 + 2 + 4 = 11 point)\n",
    "### Sub-Task 1: \n",
    "Load the four datasets in the respective variables using pandas (pd),\n",
    "make sure to set the type of the `character_id` to integer and drop the line that has the non-numeric character ID `142024`."
   ]
  },
  {
   "cell_type": "code",
   "execution_count": 34,
   "metadata": {},
   "outputs": [
    {
     "name": "stdout",
     "output_type": "stream",
     "text": [
      "Empty DataFrame\n",
      "Columns: [id, name, normalized_name, gender]\n",
      "Index: []\n"
     ]
    },
    {
     "name": "stderr",
     "output_type": "stream",
     "text": [
      "/Users/raymondzimmer/opt/anaconda3/lib/python3.7/site-packages/IPython/core/interactiveshell.py:3063: DtypeWarning: Columns (4,5,6) have mixed types.Specify dtype option on import or set low_memory=False.\n",
      "  interactivity=interactivity, compiler=compiler, result=result)\n"
     ]
    }
   ],
   "source": [
    "df_characters = pd.read_csv(\"./data/simpsons_characters.csv\")\n",
    "# print(df_characters.query('id == 142024', engine='python'))\n",
    "df_characters = df_characters[df_characters['id'] != 142024]\n",
    "print(df_characters[df_characters['id'].isnull()])\n",
    "df_locations = pd.read_csv(\"./data/simpsons_locations.csv\")\n",
    "df_script = pd.read_csv(\"./data/simpsons_script_lines.csv\")  # dtype={\"timestamp_in_ms\":\"Int64\", \"speaking_line\":\"O\", \"character_id\":\"Int64\"}\n",
    "df_episodes = pd.read_csv(\"./data/simpsons_episodes.csv\")"
   ]
  },
  {
   "cell_type": "code",
   "execution_count": 11,
   "metadata": {},
   "outputs": [
    {
     "data": {
      "text/html": [
       "<div>\n",
       "<style scoped>\n",
       "    .dataframe tbody tr th:only-of-type {\n",
       "        vertical-align: middle;\n",
       "    }\n",
       "\n",
       "    .dataframe tbody tr th {\n",
       "        vertical-align: top;\n",
       "    }\n",
       "\n",
       "    .dataframe thead th {\n",
       "        text-align: right;\n",
       "    }\n",
       "</style>\n",
       "<table border=\"1\" class=\"dataframe\">\n",
       "  <thead>\n",
       "    <tr style=\"text-align: right;\">\n",
       "      <th></th>\n",
       "      <th>id</th>\n",
       "      <th>name</th>\n",
       "      <th>normalized_name</th>\n",
       "      <th>gender</th>\n",
       "    </tr>\n",
       "  </thead>\n",
       "  <tbody>\n",
       "    <tr>\n",
       "      <th>517</th>\n",
       "      <td>464</td>\n",
       "      <td>Miss Hoover</td>\n",
       "      <td>miss hoover</td>\n",
       "      <td>f</td>\n",
       "    </tr>\n",
       "  </tbody>\n",
       "</table>\n",
       "</div>"
      ],
      "text/plain": [
       "      id         name normalized_name gender\n",
       "517  464  Miss Hoover     miss hoover      f"
      ]
     },
     "metadata": {},
     "output_type": "display_data"
    },
    {
     "data": {
      "text/plain": [
       "dtype('int64')"
      ]
     },
     "execution_count": 11,
     "metadata": {},
     "output_type": "execute_result"
    }
   ],
   "source": [
    "# test\n",
    "# df_script.head()\n",
    "df_characters.head()\n",
    "display(df_characters[df_characters['id']==464])\n",
    "df_characters.id.dtype"
   ]
  },
  {
   "cell_type": "markdown",
   "metadata": {},
   "source": [
    "Using panda's `.head()` function look at the top rows of each dataset."
   ]
  },
  {
   "cell_type": "code",
   "execution_count": 57,
   "metadata": {},
   "outputs": [],
   "source": [
    "####Your Code####\n",
    "# df_characters.head()\n",
    "# df_locations.head()\n",
    "# df_script.head()\n",
    "# df_episodes.head()"
   ]
  },
  {
   "cell_type": "markdown",
   "metadata": {},
   "source": [
    "Let's take a look at the important characters of the show. To start we detect the main characters by the number of spoken words/lines throughout the show. \n",
    "Extract top 10 characters based on the number of spoken words (word count) as well as the 10 most prominent characters regarding the number of lines they head during the show.\n",
    "Compare both results by drawing two bar plots: For the first plot, the x-axis should show the name of the top 10 characters with regard to the word count and the y-axis should display the number of spoken words.\n",
    "In the second plot, you should do the same but this time considering the number of lines for each character (,i.e., the characters displayed on the x-axis can be different for the first and second bar plot). You might notice that there is a column with `word_count` in the `scripts` data frame, but cleaning it up might be tricky. To find the sum of all values, first remove the `nan` and any other string characters in that colum, you can use the `conv` function provided."
   ]
  },
  {
   "cell_type": "code",
   "execution_count": 50,
   "metadata": {
    "scrolled": true
   },
   "outputs": [
    {
     "data": {
      "text/html": [
       "<div>\n",
       "<style scoped>\n",
       "    .dataframe tbody tr th:only-of-type {\n",
       "        vertical-align: middle;\n",
       "    }\n",
       "\n",
       "    .dataframe tbody tr th {\n",
       "        vertical-align: top;\n",
       "    }\n",
       "\n",
       "    .dataframe thead th {\n",
       "        text-align: right;\n",
       "    }\n",
       "</style>\n",
       "<table border=\"1\" class=\"dataframe\">\n",
       "  <thead>\n",
       "    <tr style=\"text-align: right;\">\n",
       "      <th></th>\n",
       "      <th>word_count</th>\n",
       "      <th>id</th>\n",
       "      <th>name</th>\n",
       "      <th>normalized_name</th>\n",
       "      <th>gender</th>\n",
       "    </tr>\n",
       "  </thead>\n",
       "  <tbody>\n",
       "    <tr>\n",
       "      <th>0</th>\n",
       "      <td>1270666</td>\n",
       "      <td>1</td>\n",
       "      <td>Marge Simpson</td>\n",
       "      <td>marge simpson</td>\n",
       "      <td>f</td>\n",
       "    </tr>\n",
       "    <tr>\n",
       "      <th>1</th>\n",
       "      <td>682780</td>\n",
       "      <td>2</td>\n",
       "      <td>Homer Simpson</td>\n",
       "      <td>homer simpson</td>\n",
       "      <td>m</td>\n",
       "    </tr>\n",
       "    <tr>\n",
       "      <th>2</th>\n",
       "      <td>28138</td>\n",
       "      <td>3</td>\n",
       "      <td>Seymour Skinner</td>\n",
       "      <td>seymour skinner</td>\n",
       "      <td>m</td>\n",
       "    </tr>\n",
       "    <tr>\n",
       "      <th>3</th>\n",
       "      <td>335</td>\n",
       "      <td>4</td>\n",
       "      <td>JANEY</td>\n",
       "      <td>janey</td>\n",
       "      <td>f</td>\n",
       "    </tr>\n",
       "    <tr>\n",
       "      <th>4</th>\n",
       "      <td>1024</td>\n",
       "      <td>5</td>\n",
       "      <td>Todd Flanders</td>\n",
       "      <td>todd flanders</td>\n",
       "      <td>m</td>\n",
       "    </tr>\n",
       "  </tbody>\n",
       "</table>\n",
       "</div>"
      ],
      "text/plain": [
       "   word_count  id             name  normalized_name gender\n",
       "0     1270666   1    Marge Simpson    marge simpson      f\n",
       "1      682780   2    Homer Simpson    homer simpson      m\n",
       "2       28138   3  Seymour Skinner  seymour skinner      m\n",
       "3         335   4            JANEY            janey      f\n",
       "4        1024   5    Todd Flanders    todd flanders      m"
      ]
     },
     "execution_count": 50,
     "metadata": {},
     "output_type": "execute_result"
    }
   ],
   "source": [
    "def conv(row):\n",
    "    try:\n",
    "        return int(row)\n",
    "    except:\n",
    "        return np.nan\n",
    "\n",
    "# convert non numeric entries to Nan\n",
    "df_script['word_count'] = df_script['word_count'].apply(conv)\n",
    "df_script['character_id'] = df_script['character_id'].apply(conv)\n",
    "# drop Nan rows\n",
    "df_script.dropna(subset=['word_count', 'character_id'], inplace=True)\n",
    "top_characters_words = df_script.groupby(['character_id'])['word_count'].sum()  # .nlargest(10)\n",
    "merge_data_words_sub = pd.merge(top_characters_words, df_characters, how='left', left_on='character_id', right_on='id')  ### merge to get the names ###\n",
    "merge_data_words_sub.head(5)"
   ]
  },
  {
   "cell_type": "code",
   "execution_count": 40,
   "metadata": {},
   "outputs": [
    {
     "data": {
      "text/plain": [
       "dtype('int64')"
      ]
     },
     "execution_count": 40,
     "metadata": {},
     "output_type": "execute_result"
    }
   ],
   "source": [
    "merge_data_words_sub.nlargest()"
   ]
  },
  {
   "cell_type": "code",
   "execution_count": 29,
   "metadata": {},
   "outputs": [
    {
     "name": "stdout",
     "output_type": "stream",
     "text": [
      "   a    b  c\n",
      "0  1  2.0  3\n",
      "1  1  NaN  4\n",
      "2  2  1.0  3\n",
      "3  1  2.0  2\n",
      "   a    b  c\n",
      "0  1  2.0  3\n",
      "1  1  NaN  4\n",
      "2  2  1.0  3\n",
      "3  1  2.0  2\n"
     ]
    }
   ],
   "source": [
    "# test\n",
    "l = [[1, 2, 3], [1, None, 4], [2, 1, 3], [1, 2, 2]]\n",
    "df = pd.DataFrame(l, columns=[\"a\", \"b\", \"c\"])\n",
    "print(df)\n",
    "df.b.dropna(inplace=True)\n",
    "# df.dropna(subset=[\"b\"], inplace=True)\n",
    "print(df)"
   ]
  },
  {
   "cell_type": "code",
   "execution_count": 52,
   "metadata": {},
   "outputs": [
    {
     "data": {
      "text/html": [
       "<div>\n",
       "<style scoped>\n",
       "    .dataframe tbody tr th:only-of-type {\n",
       "        vertical-align: middle;\n",
       "    }\n",
       "\n",
       "    .dataframe tbody tr th {\n",
       "        vertical-align: top;\n",
       "    }\n",
       "\n",
       "    .dataframe thead th {\n",
       "        text-align: right;\n",
       "    }\n",
       "</style>\n",
       "<table border=\"1\" class=\"dataframe\">\n",
       "  <thead>\n",
       "    <tr style=\"text-align: right;\">\n",
       "      <th></th>\n",
       "      <th>sent_count</th>\n",
       "      <th>id</th>\n",
       "      <th>name</th>\n",
       "      <th>normalized_name</th>\n",
       "      <th>gender</th>\n",
       "    </tr>\n",
       "  </thead>\n",
       "  <tbody>\n",
       "    <tr>\n",
       "      <th>0</th>\n",
       "      <td>28167</td>\n",
       "      <td>2</td>\n",
       "      <td>Homer Simpson</td>\n",
       "      <td>homer simpson</td>\n",
       "      <td>m</td>\n",
       "    </tr>\n",
       "    <tr>\n",
       "      <th>1</th>\n",
       "      <td>13290</td>\n",
       "      <td>1</td>\n",
       "      <td>Marge Simpson</td>\n",
       "      <td>marge simpson</td>\n",
       "      <td>f</td>\n",
       "    </tr>\n",
       "    <tr>\n",
       "      <th>2</th>\n",
       "      <td>13201</td>\n",
       "      <td>8</td>\n",
       "      <td>Bart Simpson</td>\n",
       "      <td>bart simpson</td>\n",
       "      <td>m</td>\n",
       "    </tr>\n",
       "    <tr>\n",
       "      <th>3</th>\n",
       "      <td>10895</td>\n",
       "      <td>9</td>\n",
       "      <td>Lisa Simpson</td>\n",
       "      <td>lisa simpson</td>\n",
       "      <td>f</td>\n",
       "    </tr>\n",
       "    <tr>\n",
       "      <th>4</th>\n",
       "      <td>3121</td>\n",
       "      <td>15</td>\n",
       "      <td>C. Montgomery Burns</td>\n",
       "      <td>c montgomery burns</td>\n",
       "      <td>m</td>\n",
       "    </tr>\n",
       "    <tr>\n",
       "      <th>5</th>\n",
       "      <td>2809</td>\n",
       "      <td>17</td>\n",
       "      <td>Moe Szyslak</td>\n",
       "      <td>moe szyslak</td>\n",
       "      <td>m</td>\n",
       "    </tr>\n",
       "    <tr>\n",
       "      <th>6</th>\n",
       "      <td>2390</td>\n",
       "      <td>3</td>\n",
       "      <td>Seymour Skinner</td>\n",
       "      <td>seymour skinner</td>\n",
       "      <td>m</td>\n",
       "    </tr>\n",
       "    <tr>\n",
       "      <th>7</th>\n",
       "      <td>2057</td>\n",
       "      <td>11</td>\n",
       "      <td>Ned Flanders</td>\n",
       "      <td>ned flanders</td>\n",
       "      <td>m</td>\n",
       "    </tr>\n",
       "    <tr>\n",
       "      <th>8</th>\n",
       "      <td>1875</td>\n",
       "      <td>31</td>\n",
       "      <td>Grampa Simpson</td>\n",
       "      <td>grampa simpson</td>\n",
       "      <td>m</td>\n",
       "    </tr>\n",
       "    <tr>\n",
       "      <th>9</th>\n",
       "      <td>1798</td>\n",
       "      <td>25</td>\n",
       "      <td>Milhouse Van Houten</td>\n",
       "      <td>milhouse van houten</td>\n",
       "      <td>m</td>\n",
       "    </tr>\n",
       "  </tbody>\n",
       "</table>\n",
       "</div>"
      ],
      "text/plain": [
       "   sent_count  id                 name      normalized_name gender\n",
       "0       28167   2        Homer Simpson        homer simpson      m\n",
       "1       13290   1        Marge Simpson        marge simpson      f\n",
       "2       13201   8         Bart Simpson         bart simpson      m\n",
       "3       10895   9         Lisa Simpson         lisa simpson      f\n",
       "4        3121  15  C. Montgomery Burns   c montgomery burns      m\n",
       "5        2809  17          Moe Szyslak          moe szyslak      m\n",
       "6        2390   3      Seymour Skinner      seymour skinner      m\n",
       "7        2057  11         Ned Flanders         ned flanders      m\n",
       "8        1875  31       Grampa Simpson       grampa simpson      m\n",
       "9        1798  25  Milhouse Van Houten  milhouse van houten      m"
      ]
     },
     "execution_count": 52,
     "metadata": {},
     "output_type": "execute_result"
    }
   ],
   "source": [
    "top_characters_sentences = df_script[\"character_id\"].value_counts().rename_axis('character_id').to_frame('sent_count')\n",
    "merge_data_sentences_sub = pd.merge(top_characters_sentences, df_characters, how='left', left_on='character_id', right_on='id')\n",
    "merge_data_sentences_sub.head(10)"
   ]
  },
  {
   "cell_type": "code",
   "execution_count": 54,
   "metadata": {},
   "outputs": [
    {
     "data": {
      "text/plain": [
       "<matplotlib.axes._subplots.AxesSubplot at 0x7fda544f3590>"
      ]
     },
     "execution_count": 54,
     "metadata": {},
     "output_type": "execute_result"
    },
    {
     "data": {
      "image/png": "[encoded data removed]",
      "text/plain": [
       "<Figure size 432x288 with 1 Axes>"
      ]
     },
     "metadata": {
      "needs_background": "light"
     },
     "output_type": "display_data"
    }
   ],
   "source": [
    "#### Draw the word count plot ####\n",
    "#### Hint: look at the plot function from dataframe #### \n",
    "top10_by_word = merge_data_words_sub.nlargest(n=10, columns=['word_count'])\n",
    "pd.Series(top10_by_word['word_count'].tolist(), index=top10_by_word['name'].tolist()).plot(kind='bar')"
   ]
  },
  {
   "cell_type": "code",
   "execution_count": 56,
   "metadata": {},
   "outputs": [
    {
     "data": {
      "text/plain": [
       "<matplotlib.axes._subplots.AxesSubplot at 0x7fda4b517650>"
      ]
     },
     "execution_count": 56,
     "metadata": {},
     "output_type": "execute_result"
    },
    {
     "data": {
      "image/png": "[encoded data removed]",
      "text/plain": [
       "<Figure size 432x288 with 1 Axes>"
      ]
     },
     "metadata": {
      "needs_background": "light"
     },
     "output_type": "display_data"
    }
   ],
   "source": [
    "#### Draw the sentence count plot ####\n",
    "#### Hint: look at the plot function from dataframe #### \n",
    "top10_by_sent = merge_data_sentences_sub.nlargest(n=10, columns=['sent_count'])\n",
    "pd.Series(top10_by_sent['sent_count'].tolist(), index=top10_by_sent['name'].tolist()).plot(kind='bar')"
   ]
  },
  {
   "cell_type": "markdown",
   "metadata": {},
   "source": [
    "If you have done the exercise correctly you should see that the top-4 characters of the show (Homer, Marge, Bart, and Lisa Simpson) have the most dialogs (lines) in the show but their distribution differs when we look at the word count.\n",
    "Seems like some characters speak in long sentences."
   ]
  },
  {
   "cell_type": "markdown",
   "metadata": {},
   "source": [
    "### Sub-Task 2: Common Words and Word Cloud \n",
    "Let's examine the dialogues and look at the top 20 common words, draw a bar plot in the same way as above to show the frequencies.\n",
    "To generate a meaningful output use the preprocessing pipelines explained in the lecture: \n",
    "- use regex to remove non-alphabetic characters and also remove `'` since the tokenizer will treat it as a new token (anything that is not a number or alphabet including punctuations)\n",
    "- lowercase all words\n",
    "- remove stopwords based on spaCy's stopword list\n",
    "- tokenize the `spoken_words` (remove single characters produced by the tokenizer)\n",
    "- perform stemming \n",
    " \n",
    "In this exercise, we require you to use SpaCy for all language processing steps except for stemming.\n",
    "This is due to the lack of a stemmer in SpaCy's library that only provides a tool for lemmatization.\n",
    "Hence, for Stemming we are going to use one of the stemmers provided by NLTK.\n"
   ]
  },
  {
   "cell_type": "code",
   "execution_count": 4,
   "metadata": {},
   "outputs": [],
   "source": [
    "import spacy \n",
    "import re \n",
    "from collections import Counter\n",
    "from matplotlib import pyplot as plt\n",
    "from nltk.stem import PorterStemmer"
   ]
  },
  {
   "cell_type": "code",
   "execution_count": 8,
   "metadata": {},
   "outputs": [
    {
     "name": "stdout",
     "output_type": "stream",
     "text": [
      "donald trump isnt the president any alonger in \n",
      "Donald trump isn't the president any alonger in 2020\n"
     ]
    }
   ],
   "source": [
    "# test\n",
    "test_sentence = \"Donald trump isn't the president any alonger in 2020\"\n",
    "print(re.sub(\"[^a-zA-Z ]\", \"\", test_sentence).lower())\n",
    "print(test_sentence)\n"
   ]
  },
  {
   "cell_type": "markdown",
   "metadata": {},
   "source": [
    "`python3 -m spacy download en_core_web_sm`"
   ]
  },
  {
   "cell_type": "code",
   "execution_count": 24,
   "metadata": {},
   "outputs": [
    {
     "name": "stdout",
     "output_type": "stream",
     "text": [
      "158271\n",
      "132112\n"
     ]
    }
   ],
   "source": [
    "nlp = spacy.load(\"en_core_web_sm\", diable=['tagger', 'parser', 'ner'])  ### load en_core_web_sm and disable the tagger, parser and ner.\n",
    "stopwords = spacy.lang.en.stop_words.STOP_WORDS  ### load the list of stopwords from spacy for the English language\n",
    "stemmer = PorterStemmer()  ### initialize the stemmer from NLTK\n",
    "\n",
    "print(df_script[\"spoken_words\"].size)\n",
    "df_script.dropna(subset=[\"spoken_words\"], inplace=True)\n",
    "print(df_script[\"spoken_words\"].size)\n",
    "df_script[\"spoken_words\"] = df_script[\"spoken_words\"].apply(lambda row: re.sub(\"[^a-zA-Z ]\", \"\", row).lower())  ### Your code to lower case and remove non-alphabetic characters\n"
   ]
  },
  {
   "cell_type": "code",
   "execution_count": 38,
   "metadata": {},
   "outputs": [],
   "source": [
    "index = df_script.index"
   ]
  },
  {
   "cell_type": "code",
   "execution_count": 25,
   "metadata": {},
   "outputs": [],
   "source": [
    "docs = [nlp(content) for content in df_script[\"spoken_words\"]]"
   ]
  },
  {
   "cell_type": "code",
   "execution_count": 32,
   "metadata": {},
   "outputs": [],
   "source": [
    "# tokenize and remove stop words and single characters\n",
    "tokens_lists = [[token.text for token in doc if token.text not in stopwords and len(token.text)>1] for doc in docs]  # list of token list"
   ]
  },
  {
   "cell_type": "code",
   "execution_count": 34,
   "metadata": {},
   "outputs": [],
   "source": [
    "stems_lists = [[stemmer.stem(token) for token in tokens] for tokens in tokens_lists]"
   ]
  },
  {
   "cell_type": "code",
   "execution_count": 46,
   "metadata": {},
   "outputs": [
    {
     "data": {
      "text/html": [
       "<div>\n",
       "<style scoped>\n",
       "    .dataframe tbody tr th:only-of-type {\n",
       "        vertical-align: middle;\n",
       "    }\n",
       "\n",
       "    .dataframe tbody tr th {\n",
       "        vertical-align: top;\n",
       "    }\n",
       "\n",
       "    .dataframe thead th {\n",
       "        text-align: right;\n",
       "    }\n",
       "</style>\n",
       "<table border=\"1\" class=\"dataframe\">\n",
       "  <thead>\n",
       "    <tr style=\"text-align: right;\">\n",
       "      <th></th>\n",
       "      <th>tokens_lists</th>\n",
       "      <th>stems_lists</th>\n",
       "    </tr>\n",
       "  </thead>\n",
       "  <tbody>\n",
       "    <tr>\n",
       "      <th>0</th>\n",
       "      <td>[actually, little, disease, magazines, news, s...</td>\n",
       "      <td>[actual, littl, diseas, magazin, news, show, n...</td>\n",
       "    </tr>\n",
       "    <tr>\n",
       "      <th>1</th>\n",
       "      <td>[mr, bergstrom]</td>\n",
       "      <td>[mr, bergstrom]</td>\n",
       "    </tr>\n",
       "    <tr>\n",
       "      <th>2</th>\n",
       "      <td>[nt, know, sure, like, talk, nt, touch, lesson...</td>\n",
       "      <td>[nt, know, sure, like, talk, nt, touch, lesson...</td>\n",
       "    </tr>\n",
       "    <tr>\n",
       "      <th>3</th>\n",
       "      <td>[life, worth, living]</td>\n",
       "      <td>[life, worth, live]</td>\n",
       "    </tr>\n",
       "    <tr>\n",
       "      <th>4</th>\n",
       "      <td>[polls, open, end, recess, case, decided, thou...</td>\n",
       "      <td>[poll, open, end, recess, case, decid, thought...</td>\n",
       "    </tr>\n",
       "  </tbody>\n",
       "</table>\n",
       "</div>"
      ],
      "text/plain": [
       "                                        tokens_lists  \\\n",
       "0  [actually, little, disease, magazines, news, s...   \n",
       "1                                    [mr, bergstrom]   \n",
       "2  [nt, know, sure, like, talk, nt, touch, lesson...   \n",
       "3                              [life, worth, living]   \n",
       "4  [polls, open, end, recess, case, decided, thou...   \n",
       "\n",
       "                                         stems_lists  \n",
       "0  [actual, littl, diseas, magazin, news, show, n...  \n",
       "1                                    [mr, bergstrom]  \n",
       "2  [nt, know, sure, like, talk, nt, touch, lesson...  \n",
       "3                                [life, worth, live]  \n",
       "4  [poll, open, end, recess, case, decid, thought...  "
      ]
     },
     "execution_count": 46,
     "metadata": {},
     "output_type": "execute_result"
    }
   ],
   "source": [
    "# tokens_series = pd.Series(tokens_lists, index=index, dtype='O')\n",
    "# stems_series = pd.Series(stems_lists, index=index, dtype='O')\n",
    "df_token_stem = pd.DataFrame({\"tokens_lists\":tokens_lists, \"stems_lists\":stems_lists}, index=index)\n",
    "df_token_stem.to_csv(\"token_stem.csv\", index=True)\n",
    "df.head()"
   ]
  },
  {
   "cell_type": "code",
   "execution_count": 35,
   "metadata": {},
   "outputs": [
    {
     "name": "stdout",
     "output_type": "stream",
     "text": [
      "[('nt', 15983), ('oh', 8173), ('like', 6272), ('know', 4970), ('ve', 4676), ('got', 4635), ('hey', 4290), ('homer', 4274), ('right', 4109), ('look', 3708), ('bart', 3580), ('want', 3571), ('let', 3284), ('think', 3265), ('come', 3192), ('ill', 3188), ('good', 3085), ('yeah', 2988), ('time', 2732), ('na', 2711)]\n"
     ]
    }
   ],
   "source": [
    "counter = Counter()\n",
    "for stems in stems_lists:\n",
    "    counter += Counter(stems)\n",
    "print(counter.most_common(20))\n",
    "#### Count the words in the scripts and print out the most common 20, remove any single character tokens and stem"
   ]
  },
  {
   "cell_type": "code",
   "execution_count": 1,
   "metadata": {},
   "outputs": [
    {
     "ename": "NameError",
     "evalue": "name 'pd' is not defined",
     "output_type": "error",
     "traceback": [
      "\u001b[0;31m---------------------------------------------------------------------------\u001b[0m",
      "\u001b[0;31mNameError\u001b[0m                                 Traceback (most recent call last)",
      "\u001b[0;32m<ipython-input-1-ecbbf11b20cd>\u001b[0m in \u001b[0;36m<module>\u001b[0;34m\u001b[0m\n\u001b[1;32m      1\u001b[0m \u001b[0;31m#### draw a bar plot with the x axis as the words and the y axis as the frequencys\u001b[0m\u001b[0;34m\u001b[0m\u001b[0;34m\u001b[0m\u001b[0;34m\u001b[0m\u001b[0m\n\u001b[0;32m----> 2\u001b[0;31m \u001b[0mpd\u001b[0m\u001b[0;34m.\u001b[0m\u001b[0mSeries\u001b[0m\u001b[0;34m(\u001b[0m\u001b[0;34m[\u001b[0m\u001b[0mc\u001b[0m\u001b[0;34m[\u001b[0m\u001b[0;36m1\u001b[0m\u001b[0;34m]\u001b[0m \u001b[0;32mfor\u001b[0m \u001b[0mc\u001b[0m \u001b[0;32min\u001b[0m \u001b[0mcounter\u001b[0m\u001b[0;34m.\u001b[0m\u001b[0mmost_common\u001b[0m\u001b[0;34m(\u001b[0m\u001b[0;36m20\u001b[0m\u001b[0;34m)\u001b[0m\u001b[0;34m]\u001b[0m\u001b[0;34m,\u001b[0m \u001b[0mindex\u001b[0m\u001b[0;34m=\u001b[0m\u001b[0;34m[\u001b[0m\u001b[0mc\u001b[0m\u001b[0;34m[\u001b[0m\u001b[0;36m0\u001b[0m\u001b[0;34m]\u001b[0m \u001b[0;32mfor\u001b[0m \u001b[0mc\u001b[0m \u001b[0;32min\u001b[0m \u001b[0mcounter\u001b[0m\u001b[0;34m.\u001b[0m\u001b[0mmost_common\u001b[0m\u001b[0;34m(\u001b[0m\u001b[0;36m20\u001b[0m\u001b[0;34m)\u001b[0m\u001b[0;34m]\u001b[0m\u001b[0;34m)\u001b[0m\u001b[0;34m.\u001b[0m\u001b[0mplot\u001b[0m\u001b[0;34m(\u001b[0m\u001b[0mkind\u001b[0m\u001b[0;34m=\u001b[0m\u001b[0;34m'bar'\u001b[0m\u001b[0;34m)\u001b[0m\u001b[0;34m\u001b[0m\u001b[0;34m\u001b[0m\u001b[0m\n\u001b[0m",
      "\u001b[0;31mNameError\u001b[0m: name 'pd' is not defined"
     ]
    }
   ],
   "source": [
    "#### draw a bar plot with the x axis as the words and the y axis as the frequencys\n",
    "pd.Series([c[1] for c in counter.most_common(20)], index=[c[0] for c in counter.most_common(20)]).plot(kind='bar')"
   ]
  },
  {
   "cell_type": "markdown",
   "metadata": {},
   "source": [
    "Generate a word cloud to visualize the frequencies:\n",
    "A word cloud is a graphical representation of frequently used words in the normalized text.\n",
    "The height of each word in this picture is an indication of the frequency of occurrence of the word in the entire text.\n",
    "You will need to install the package `wordcloud`.\n",
    "To achieve a homogeneous output, set the `max_words` to 100 and `max_font_size` to 60.\n",
    "Make sure the same word does not appear more than once."
   ]
  },
  {
   "cell_type": "code",
   "execution_count": 51,
   "metadata": {},
   "outputs": [],
   "source": [
    "from wordcloud import WordCloud"
   ]
  },
  {
   "cell_type": "code",
   "execution_count": null,
   "metadata": {},
   "outputs": [],
   "source": [
    "wordcloud = WordCloud( \n",
    "    max_words=1000,\n",
    "    max_font_size=60,\n",
    "    \n",
    ")\n",
    "\n",
    "fig = plt.figure(1, figsize=(12, 12))\n",
    "plt.axes(\"off\")\n",
    "plt.imshow(wordcloud, interpolation=\"bilinear\")"
   ]
  },
  {
   "cell_type": "markdown",
   "metadata": {},
   "source": [
    "### Sub-Task 3: Common Named Entities \n",
    "Apply named entity recognition using SpaCy and generate a word cloud of the top 50\n",
    "named entities that have the type `PERSON`, using the same approach\n",
    "for visualization as above. Take into account that you cannot simply use the\n",
    "output of the previous step and need to undo the stemming. Since the named entity\n",
    "recognition takes quite some time, use only the first `10000` scripts."
   ]
  },
  {
   "cell_type": "code",
   "execution_count": null,
   "metadata": {},
   "outputs": [],
   "source": [
    "nlp = nlp = spacy.load(\"en_core_web_sm\") # Load the small English spacy model again, this time with all components enabled\n",
    "\n",
    "for script in df_script.spoken_words.tolist()[:10000]:\n",
    "    ###Your code ##### \n",
    "    \n",
    "fig = plt.figure(1, figsize=(12, 12))\n",
    "plt.axis(\"off\")\n",
    "plt.imshow(wordcloud, interpolation=\"bilinear\")"
   ]
  },
  {
   "cell_type": "markdown",
   "metadata": {},
   "source": [
    "How well does the named entity recognition work? Do you notice some strange \"people\" in there?"
   ]
  },
  {
   "cell_type": "markdown",
   "metadata": {},
   "source": [
    "### Sub Task 4 : Sophistication of Speech\n",
    " "
   ]
  },
  {
   "cell_type": "markdown",
   "metadata": {},
   "source": [
    "Take into account the top 10 characters from the first subtask (based on line count), it is interesting to see whether there are big differences in the sophistication of speech or vocabulary size between the characters.\n",
    "To measure this, we turn to the Flesch Reading Ease. Although designed for written text we use it here on spoken words.\n",
    "This measures indicates how difficult a passage in English is to understand and is based on a ranking scale of 0-100, where higher scores indicate material that is easier to read; lower numbers mark passages that are more difficult to read.\n",
    "For more information look at the [wiki page](https://en.wikipedia.org/wiki/Flesch%E2%80%93Kincaid_readability_tests).\n",
    "\n",
    "$206.835 - 1.015 \\times \\frac{total words}{total sentences} - 84.6 \\times \\frac{total syllables}{total words}$\n",
    "\n",
    "For syllable counts, download `cmudict` from the NLTK library and count the vowel sounds from the Carnegie Mellon Pronouncing Dictionary (cmudict).\n",
    "Then count vowel sounds in each word, if a word is not in the dictionary do not count it in.\n",
    "CMUdict marks each vowel with a stress tag, 0 (unstressed), 1 (stressed), or 2 (secondary stress)."
   ]
  },
  {
   "cell_type": "code",
   "execution_count": null,
   "metadata": {},
   "outputs": [],
   "source": []
  },
  {
   "cell_type": "code",
   "execution_count": 56,
   "metadata": {},
   "outputs": [],
   "source": [
    "import nltk\n",
    "# nltk.download('cmudict')\n",
    "from nltk.corpus import cmudict\n",
    "phoneme_dict = dict(cmudict.entries())\n",
    "nlp = nlp = spacy.load(\"en_core_web_sm\", diable=['ner'])  # load the same spacy model again, with tagger, parser and ner disabled.\n",
    "nlp.add_pipe(nlp.create_pipe('sentencizer'))\n",
    "\n",
    "def syllable_counter(word):\n",
    "    \"\"\"functionn that counts a syllable in a word\"\"\"\n",
    "    if word not in phoneme_dict:\n",
    "        return 0\n",
    "    vowel_count = 0\n",
    "    for sound in phoneme_dict[word]:\n",
    "        if sound[-1].isdigit():\n",
    "            vowel_count += 1\n",
    "    return vowel_count \n",
    "\n",
    "def total_sylls(x):\n",
    "    \"\"\"\n",
    "    function to use with apply method, to count \n",
    "    the total number of syllable in line of a script \n",
    "    \"\"\"\n",
    "    total_vowel = 0\n",
    "    for word in x:\n",
    "        total_vowel += syllable_counter(word)\n",
    "    return total_vowel\n",
    "    \n",
    "def sentence_count(x):\n",
    "    \"\"\"\n",
    "    function to use with apply method, to count \n",
    "    the total number of sentences in line of a script \n",
    "    \"\"\"\n",
    "    return len(nlp(x).sents)\n",
    "    return 0\n",
    "\n",
    "df_script['syllable_count'] = df_script['spoken_words'].apply(total_sylls)\n",
    "df_script['sentence_count'] = f_script['spoken_words'].apply(sentence_count)\n",
    "# top_characters_counts = ## use aggragations to find the word_count, syllable_count and sentence_count per person \n",
    "# top_characters_counts['Flesch_readability'] =\n",
    "# merge_data_words_sub = ### merge with df_characters to find the character nanmes \n",
    "### draw plot "
   ]
  },
  {
   "cell_type": "code",
   "execution_count": 62,
   "metadata": {},
   "outputs": [
    {
     "name": "stdout",
     "output_type": "stream",
     "text": [
      "[1, 0, 0, 1, 0, 0, 1, 0, 0]\n",
      "['IH0', 'M', 'P', 'AO1', 'R', 'T', 'AH0', 'N', 'T']\n"
     ]
    },
    {
     "ename": "KeyError",
     "evalue": "2",
     "output_type": "error",
     "traceback": [
      "\u001b[0;31m---------------------------------------------------------------------------\u001b[0m",
      "\u001b[0;31mKeyError\u001b[0m                                  Traceback (most recent call last)",
      "\u001b[0;32m<ipython-input-62-c8914d7e7aed>\u001b[0m in \u001b[0;36m<module>\u001b[0;34m\u001b[0m\n\u001b[1;32m      5\u001b[0m \u001b[0;34m\u001b[0m\u001b[0m\n\u001b[1;32m      6\u001b[0m \u001b[0mtest\u001b[0m \u001b[0;34m=\u001b[0m \u001b[0;34m{\u001b[0m\u001b[0;36m1\u001b[0m\u001b[0;34m:\u001b[0m\u001b[0;36m1\u001b[0m\u001b[0;34m}\u001b[0m\u001b[0;34m\u001b[0m\u001b[0;34m\u001b[0m\u001b[0m\n\u001b[0;32m----> 7\u001b[0;31m \u001b[0mprint\u001b[0m\u001b[0;34m(\u001b[0m\u001b[0mtest\u001b[0m\u001b[0;34m[\u001b[0m\u001b[0;36m2\u001b[0m\u001b[0;34m]\u001b[0m\u001b[0;34m)\u001b[0m\u001b[0;34m\u001b[0m\u001b[0;34m\u001b[0m\u001b[0m\n\u001b[0m",
      "\u001b[0;31mKeyError\u001b[0m: 2"
     ]
    }
   ],
   "source": [
    "# test\n",
    "word = \"important\"\n",
    "print(syllable_counter(word))\n",
    "print(phoneme_dict[word])\n",
    "\n",
    "test = {1:1}\n",
    "print(test[2])"
   ]
  },
  {
   "cell_type": "markdown",
   "metadata": {},
   "source": [
    "## Task 2: TF-IDF ( 3 + 4 = 7 points)\n"
   ]
  },
  {
   "cell_type": "markdown",
   "metadata": {},
   "source": [
    "## Sub Task 1: \n",
    "Despite all the preprocessing, so far the top words we looked at are not so informative.\n",
    "We wish to find out the important words that are spoken by the top characters.\n",
    "For example, the youngest of the family should have \"mom\" as an important word.\n",
    "We looked at the Term Frequency - Inverse Document Frequency (TF-IDF) weighting in the lecture, so let's use that here to detect the most important words per character.\n",
    "In this case, each script line is a document for a certain character who spoke the words.\n",
    "Use `CountVectorizer` and `TfidfTransformers` from scikit-learn, and use the scikit-learn stop word list to remove stop words and remove the words with a frequency less than 5 from the analysis.\n",
    "Then plot the TF-IDF values for the top 10 words for Homer, Marge, Bart, and Lisa Simpson as a bar plot."
   ]
  },
  {
   "cell_type": "code",
   "execution_count": null,
   "metadata": {},
   "outputs": [],
   "source": [
    "from sklearn.feature_extraction.text import CountVectorizer\n",
    "from sklearn.feature_extraction.text import TfidfTransformer\n",
    "del df_script['id']\n",
    "df_script = df_script.rename(columns = {'character_id':'id'})  # to merge easily"
   ]
  },
  {
   "cell_type": "code",
   "execution_count": null,
   "metadata": {},
   "outputs": [],
   "source": [
    "merged_data = #merge the dataframes to the characters to get the names and drop nan values\n",
    "\n",
    "for name in ['Homer Simpson', 'Marge Simpson', 'Bart Simpson', 'Lisa Simpson']:\n",
    "    ##### Your code ######\n",
    "    count_vectorized =\n",
    "    transformer = \n",
    "    ### Don't forget that you need the tfidf values for a single word averaged across documents ####"
   ]
  },
  {
   "cell_type": "markdown",
   "metadata": {},
   "source": [
    "If you did the exercise correctly, \"mom\" and \"dad\" should be among the top words for the childern and \"homer\" should be the top word for Marge, since this is what she calls her husband."
   ]
  },
  {
   "cell_type": "markdown",
   "metadata": {},
   "source": [
    "## Sub Task 2: \n",
    "If we consider the spoken words from each character a document of its own, we can generate 4 documents (by concatenation of all dialogs) for Homer, Marge, Bart, and Lisa Simpson, and create document vectors from those.\n",
    "Let's take a look at how the values in these vectors are distributed. Use  `sns.heatmap` from the seaborn package to show the vectors of the 4 documents for the top-20 words (set the `max_features` parameter of the `CountVectorizer` to 20).\n",
    "Compare it with the heatmap of only term frequencies of the documents. Use `fmt='g'` to print out the correct format."
   ]
  },
  {
   "cell_type": "code",
   "execution_count": null,
   "metadata": {},
   "outputs": [],
   "source": [
    "import seaborn as sns"
   ]
  },
  {
   "cell_type": "code",
   "execution_count": null,
   "metadata": {},
   "outputs": [],
   "source": [
    "fig, ax = plt.subplots(figsize=(17,6))         \n",
    "sns.heatmap(### Your tfidf weights ###\n",
    "    , annot=True, cbar=False, ax=ax, xticklabels=# top 20 words\n",
    ")"
   ]
  },
  {
   "cell_type": "code",
   "execution_count": null,
   "metadata": {},
   "outputs": [],
   "source": [
    "fig, ax = plt.subplots(figsize=(17,6))         \n",
    "sns.heatmap(### Your count vectorizer weights ###\n",
    "    , annot=True, cbar=False, ax=ax, xticklabels=#top 20 words\n",
    ")"
   ]
  },
  {
   "cell_type": "markdown",
   "metadata": {},
   "source": [
    "Based on the TF_IDF vectors of the top-20 words, which characters are similar?"
   ]
  },
  {
   "cell_type": "code",
   "execution_count": null,
   "metadata": {},
   "outputs": [],
   "source": [
    "from sklearn.metrics import pairwise\n",
    "names = ['Homer Simpson', 'Marge Simpson', 'Bart Simpson', 'Lisa Simpson']\n",
    "cosine= ### Your code ### \n",
    "for i,name in zip(range(4),names):\n",
    "    for j,name2 in zip(range(i+1,4),names[i+1:]):\n",
    "        print('{} to {}: {}'.format(name, name2, ### Your code to compute cosine similarity ###))\n"
   ]
  },
  {
   "cell_type": "markdown",
   "metadata": {},
   "source": [
    "# Task 3: Topics ( 4 + 3 = 7 points)"
   ]
  },
  {
   "cell_type": "markdown",
   "metadata": {},
   "source": [
    "It is interesting to inspect the topics often discussed in the show. We look at SVD (LSA) and NMF for topic detection."
   ]
  },
  {
   "cell_type": "markdown",
   "metadata": {},
   "source": [
    "## Sub Task1:\n",
    "Use `NMF` from scikit-learn to detect the topics in the scripts, and use the text cleaning steps from the first task:\n",
    "- use regex to remove non-alphabetic characters and also remove `'` since the tokenizer will treat it as a new token (anything that is not a number or alphabet including punctuations)\n",
    "- lowercase all words\n",
    "- remove stopwords based on spaCy's stopword list for English\n",
    "- tokenize the spoken_words (remove single characters produced by the tokenizer) \n",
    "- perform stemming \n",
    "\n",
    "set the `max_features` of  `CountVectorizer` to 10,000 and `random_state` of the `NMF` to 42, `n_components=10`."
   ]
  },
  {
   "cell_type": "code",
   "execution_count": null,
   "metadata": {},
   "outputs": [],
   "source": [
    "from sklearn.decomposition import NMF \n",
    "stopwords = # load spacy's stop word list"
   ]
  },
  {
   "cell_type": "code",
   "execution_count": null,
   "metadata": {},
   "outputs": [],
   "source": [
    "def show_topics(components, num_top_words, vocab):\n",
    "    #for each component or topic sorts the row values from large to small and returns the top words and the representation of the topic.\n",
    "    top_words = lambda t: [vocab[i] for i in np.argsort(t)[:-num_top_words-1:-1]]\n",
    "    topic_words = ([top_words(t) for t in components])\n",
    "    return [' '.join(t) for t in topic_words]"
   ]
  },
  {
   "cell_type": "code",
   "execution_count": null,
   "metadata": {},
   "outputs": [],
   "source": [
    "nlp = spacy.load(#### Your Code ####\n",
    "porter = #### initlize the stemmer ####\n",
    "df_script.dropna(inplace=True)\n",
    "df_script.spoken_words =#### Your Code ####"
   ]
  },
  {
   "cell_type": "code",
   "execution_count": null,
   "metadata": {},
   "outputs": [],
   "source": [
    "nmf = NMF(#### Your Code #### )"
   ]
  },
  {
   "cell_type": "markdown",
   "metadata": {},
   "source": [
    "Use the `show_topics()` method to show the top-20 words for the top 2 topics."
   ]
  },
  {
   "cell_type": "code",
   "execution_count": null,
   "metadata": {},
   "outputs": [],
   "source": [
    "#### Your Code ####"
   ]
  },
  {
   "cell_type": "markdown",
   "metadata": {},
   "source": [
    "## Sub Task 2:\n",
    "The SVD algorithm factorizes a matrix into one matrix with orthogonal columns and one with orthogonal rows (along with a diagonal matrix, which contains the relative importance of each factor).\n",
    "Latent Semantic Analysis (LSA) uses SVD. Here we use the 'TruncatedSVD' method from 'sklearn' to look at the topics.\n",
    "This is faster than SVD since we focus only on the largest singluar values.\n",
    "Use the cleaned documents form the substask before. Where `random_state=42`, `n_components=10`, and `n_iter=7`."
   ]
  },
  {
   "cell_type": "code",
   "execution_count": null,
   "metadata": {},
   "outputs": [],
   "source": [
    "from sklearn.decomposition import TruncatedSVD"
   ]
  },
  {
   "cell_type": "code",
   "execution_count": null,
   "metadata": {},
   "outputs": [],
   "source": [
    "svd = TruncatedSVD(#### Your Code ####)"
   ]
  },
  {
   "cell_type": "markdown",
   "metadata": {},
   "source": [
    "Use the `show_topics` method to show the top-20 words for the top-2 topics. "
   ]
  },
  {
   "cell_type": "code",
   "execution_count": null,
   "metadata": {},
   "outputs": [],
   "source": [
    "show_topics(#### Your Code ####)"
   ]
  },
  {
   "cell_type": "markdown",
   "metadata": {},
   "source": [
    "As you can see there is not much to make out of these topics. But topic models also give us document representations, so let's compare Homer, Marge, Bart, and Lisa Simpson based on their SVD vectors.\n",
    "Use the same approach as the TF_IDF Task, but apply the pre-processing steps mentioned in the previous subtask.\n",
    "Notice that if you use the default parameters for the SVD you might encounter a strange shape in the transformed data.\n",
    "This happens because the underlying algorithm is set to 'randomized_svd'.\n",
    "Investigate how to solve this problem and run the algorithm with `n_components=2, n_iter=7, random_state=40`.\n",
    "Hint: You need one extra parameter to overcome this problem.\n",
    "Transform the TF_IDF vectors for the 4 subsets to the SVD and compute the cosine similarity."
   ]
  },
  {
   "cell_type": "code",
   "execution_count": null,
   "metadata": {},
   "outputs": [],
   "source": [
    "subsets = {}\n",
    "for name in ['Homer Simpson', 'Marge Simpson', 'Bart Simpson', 'Lisa Simpson']:\n",
    "    subsets[name] = merged_data[merged_data['name']==name]['normalized_text'].### Your code ###"
   ]
  },
  {
   "cell_type": "code",
   "execution_count": null,
   "metadata": {},
   "outputs": [],
   "source": [
    "count_vectorized = CountVectorizer(analyzer='word', max_features=10000)\n",
    "### Your Code ### \n",
    "svd = ### Your Code ###\n",
    "svd.fit(### Your Code ### \n",
    "new_weights = ### Your Code ###"
   ]
  },
  {
   "cell_type": "code",
   "execution_count": null,
   "metadata": {},
   "outputs": [],
   "source": [
    "names = ['Homer Simpson', 'Marge Simpson', 'Bart Simpson', 'Lisa Simpson']\n",
    "cosine = ###Compute the cosine similirity###\n",
    "for i, name in zip(range(4),names):\n",
    "    for j, name2 in zip(range(i+1,4),names[i+1:]):\n",
    "        print('{} to {}: {}'.\n",
    "                  format(name,name2,###Cosine Similiarity### ))"
   ]
  },
  {
   "cell_type": "markdown",
   "metadata": {},
   "source": [
    "## Task 4: Mathematical Concepts ( 1 + 2 + 2 = 5 points)\n",
    "Answer the following questions in the notebook, use markdown or latex to fill in the cells for the answers:"
   ]
  },
  {
   "cell_type": "markdown",
   "metadata": {},
   "source": [
    "## Sub Task 1: \n",
    "What is the relationship between PCA and SVD? "
   ]
  },
  {
   "cell_type": "code",
   "execution_count": null,
   "metadata": {},
   "outputs": [],
   "source": []
  },
  {
   "cell_type": "markdown",
   "metadata": {},
   "source": [
    "## Sub Task 2: "
   ]
  },
  {
   "cell_type": "markdown",
   "metadata": {},
   "source": [
    "Find the Singular value decomposition of  $A = \\left[ \\begin{matrix}1&-1\\\\ -2&2\\\\ 2&-2\\end{matrix} \\right]$.\n"
   ]
  },
  {
   "cell_type": "markdown",
   "metadata": {},
   "source": []
  },
  {
   "cell_type": "markdown",
   "metadata": {},
   "source": [
    "## Sub Task 3:\n",
    "\n",
    "Consider the term-document matrix \n",
    "\n",
    "|        | d1 | d2 | d3 | d4 | d5 | d6 |\n",
    "|--------|----|----|----|----|----|----|\n",
    "| bank   | 1  | 2  | 1  | 2  | 1  | 1  |\n",
    "| money  | 0  | 0  | 0  | 2  | 1  | 2  |\n",
    "| river  | 2  | 0  | 2  | 0  | 0  | 0  |\n",
    "| ship   | 2  | 1  | 1  | 0  | 0  | 0  |\n",
    "| water  | 1  | 2  | 2  | 0  | 0  | 0  |\n",
    "| invest | 0  | 0  | 0  | 1  | 2  | 0  |\n",
    "| loan   | 0  | 0  | 0  | 1  | 1  | 1  |\n",
    "\n",
    "Use NumPy to compute the SVD for the matrix and write down the term matrix (U) and document matrix ($V^T$) and the singular values ($\\Sigma$). Compute the following: \n",
    "\n",
    "- zero out everything but the 2 largest singular values of $\\Sigma$ and compute the new term-document matrix.\n",
    "- detect the two topics given the new $\\Sigma$ and show the top-3 words for each. What are these topics? \n",
    "- what is the most similar document to each document, using the cosine similarity and reduced representation? \n",
    "\n"
   ]
  },
  {
   "cell_type": "code",
   "execution_count": null,
   "metadata": {},
   "outputs": [],
   "source": [
    "import numpy as np \n",
    "A = np.array(### Your Code ####"
   ]
  },
  {
   "cell_type": "code",
   "execution_count": null,
   "metadata": {},
   "outputs": [],
   "source": [
    "u, s, vh = np.linalg.### Your Code ####\n"
   ]
  },
  {
   "cell_type": "code",
   "execution_count": null,
   "metadata": {},
   "outputs": [],
   "source": []
  },
  {
   "cell_type": "code",
   "execution_count": null,
   "metadata": {},
   "outputs": [],
   "source": [
    "new_reconstruction= ### Your Code ####\n",
    "print(new_reconstruction.round(1))"
   ]
  },
  {
   "cell_type": "code",
   "execution_count": null,
   "metadata": {},
   "outputs": [],
   "source": [
    "vocab=['bank', 'money', 'river', 'ship', 'water', 'invest', 'loan']\n",
    "top_words = ### Your Code ###"
   ]
  },
  {
   "cell_type": "code",
   "execution_count": null,
   "metadata": {},
   "outputs": [],
   "source": [
    "from sklearn.metrics import pairwise\n",
    "cosine = ### Your Code ###"
   ]
  }
 ],
 "metadata": {
  "kernelspec": {
   "display_name": "Python 3",
   "language": "python",
   "name": "python3"
  },
  "language_info": {
   "codemirror_mode": {
    "name": "ipython",
    "version": 3
   },
   "file_extension": ".py",
   "mimetype": "text/x-python",
   "name": "python",
   "nbconvert_exporter": "python",
   "pygments_lexer": "ipython3",
   "version": "3.7.6"
  }
 },
 "nbformat": 4,
 "nbformat_minor": 2
}
